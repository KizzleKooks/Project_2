{
 "metadata": {
  "language_info": {
   "codemirror_mode": {
    "name": "ipython",
    "version": 3
   },
   "file_extension": ".py",
   "mimetype": "text/x-python",
   "name": "python",
   "nbconvert_exporter": "python",
   "pygments_lexer": "ipython3",
   "version": "3.7.6-final"
  },
  "orig_nbformat": 2,
  "kernelspec": {
   "name": "python_defaultSpec_1598532471661",
   "display_name": "Python 3.7.6 64-bit ('base': conda)"
  }
 },
 "nbformat": 4,
 "nbformat_minor": 2,
 "cells": [
  {
   "cell_type": "code",
   "execution_count": 2,
   "metadata": {},
   "outputs": [],
   "source": [
    "import pandas as pd     "
   ]
  },
  {
   "cell_type": "code",
   "execution_count": 3,
   "metadata": {},
   "outputs": [
    {
     "output_type": "execute_result",
     "data": {
      "text/plain": "   _id         Indicator           AACC Region  Aboriginality     Age Group  \\\n0    1  Children in care        East Kimberley  NonAboriginal  0 - 17 Years   \n1    2  Children in care        East Kimberley     Aboriginal  0 - 17 Years   \n2    3  Children in care  Goldfields-Esperance  NonAboriginal  0 - 17 Years   \n3    4  Children in care  Goldfields-Esperance     Aboriginal  0 - 17 Years   \n4    5  Children in care      Midwest-Gascoyne     Aboriginal  0 - 17 Years   \n\n  Gender  Count  Year  \n0    All      0  2008  \n1    All     91  2008  \n2    All     34  2008  \n3    All     69  2008  \n4    All     94  2008  ",
      "text/html": "<div>\n<style scoped>\n    .dataframe tbody tr th:only-of-type {\n        vertical-align: middle;\n    }\n\n    .dataframe tbody tr th {\n        vertical-align: top;\n    }\n\n    .dataframe thead th {\n        text-align: right;\n    }\n</style>\n<table border=\"1\" class=\"dataframe\">\n  <thead>\n    <tr style=\"text-align: right;\">\n      <th></th>\n      <th>_id</th>\n      <th>Indicator</th>\n      <th>AACC Region</th>\n      <th>Aboriginality</th>\n      <th>Age Group</th>\n      <th>Gender</th>\n      <th>Count</th>\n      <th>Year</th>\n    </tr>\n  </thead>\n  <tbody>\n    <tr>\n      <th>0</th>\n      <td>1</td>\n      <td>Children in care</td>\n      <td>East Kimberley</td>\n      <td>NonAboriginal</td>\n      <td>0 - 17 Years</td>\n      <td>All</td>\n      <td>0</td>\n      <td>2008</td>\n    </tr>\n    <tr>\n      <th>1</th>\n      <td>2</td>\n      <td>Children in care</td>\n      <td>East Kimberley</td>\n      <td>Aboriginal</td>\n      <td>0 - 17 Years</td>\n      <td>All</td>\n      <td>91</td>\n      <td>2008</td>\n    </tr>\n    <tr>\n      <th>2</th>\n      <td>3</td>\n      <td>Children in care</td>\n      <td>Goldfields-Esperance</td>\n      <td>NonAboriginal</td>\n      <td>0 - 17 Years</td>\n      <td>All</td>\n      <td>34</td>\n      <td>2008</td>\n    </tr>\n    <tr>\n      <th>3</th>\n      <td>4</td>\n      <td>Children in care</td>\n      <td>Goldfields-Esperance</td>\n      <td>Aboriginal</td>\n      <td>0 - 17 Years</td>\n      <td>All</td>\n      <td>69</td>\n      <td>2008</td>\n    </tr>\n    <tr>\n      <th>4</th>\n      <td>5</td>\n      <td>Children in care</td>\n      <td>Midwest-Gascoyne</td>\n      <td>Aboriginal</td>\n      <td>0 - 17 Years</td>\n      <td>All</td>\n      <td>94</td>\n      <td>2008</td>\n    </tr>\n  </tbody>\n</table>\n</div>"
     },
     "metadata": {},
     "execution_count": 3
    }
   ],
   "source": [
    "#reading in CSV file\n",
    "care_df = pd.read_csv(\"care.csv\")\n",
    "care_df.head()"
   ]
  },
  {
   "cell_type": "code",
   "execution_count": 4,
   "metadata": {},
   "outputs": [
    {
     "output_type": "execute_result",
     "data": {
      "text/plain": "   _id                         Indicator           AACC Region  Aboriginality  \\\n0    1  Safety and Wellbeing Assessments        East Kimberley     Aboriginal   \n1    2  Safety and Wellbeing Assessments        East Kimberley  NonAboriginal   \n2    3  Safety and Wellbeing Assessments  Goldfields-Esperance     Aboriginal   \n3    4  Safety and Wellbeing Assessments  Goldfields-Esperance  NonAboriginal   \n4    5  Safety and Wellbeing Assessments      Midwest-Gascoyne     Aboriginal   \n\n      Age Group Gender  Count     Year  \n0  0 - 17 Years    All    325  2015-16  \n1  0 - 17 Years    All      4  2015-16  \n2  0 - 17 Years    All    193  2015-16  \n3  0 - 17 Years    All    126  2015-16  \n4  0 - 17 Years    All    471  2015-16  ",
      "text/html": "<div>\n<style scoped>\n    .dataframe tbody tr th:only-of-type {\n        vertical-align: middle;\n    }\n\n    .dataframe tbody tr th {\n        vertical-align: top;\n    }\n\n    .dataframe thead th {\n        text-align: right;\n    }\n</style>\n<table border=\"1\" class=\"dataframe\">\n  <thead>\n    <tr style=\"text-align: right;\">\n      <th></th>\n      <th>_id</th>\n      <th>Indicator</th>\n      <th>AACC Region</th>\n      <th>Aboriginality</th>\n      <th>Age Group</th>\n      <th>Gender</th>\n      <th>Count</th>\n      <th>Year</th>\n    </tr>\n  </thead>\n  <tbody>\n    <tr>\n      <th>0</th>\n      <td>1</td>\n      <td>Safety and Wellbeing Assessments</td>\n      <td>East Kimberley</td>\n      <td>Aboriginal</td>\n      <td>0 - 17 Years</td>\n      <td>All</td>\n      <td>325</td>\n      <td>2015-16</td>\n    </tr>\n    <tr>\n      <th>1</th>\n      <td>2</td>\n      <td>Safety and Wellbeing Assessments</td>\n      <td>East Kimberley</td>\n      <td>NonAboriginal</td>\n      <td>0 - 17 Years</td>\n      <td>All</td>\n      <td>4</td>\n      <td>2015-16</td>\n    </tr>\n    <tr>\n      <th>2</th>\n      <td>3</td>\n      <td>Safety and Wellbeing Assessments</td>\n      <td>Goldfields-Esperance</td>\n      <td>Aboriginal</td>\n      <td>0 - 17 Years</td>\n      <td>All</td>\n      <td>193</td>\n      <td>2015-16</td>\n    </tr>\n    <tr>\n      <th>3</th>\n      <td>4</td>\n      <td>Safety and Wellbeing Assessments</td>\n      <td>Goldfields-Esperance</td>\n      <td>NonAboriginal</td>\n      <td>0 - 17 Years</td>\n      <td>All</td>\n      <td>126</td>\n      <td>2015-16</td>\n    </tr>\n    <tr>\n      <th>4</th>\n      <td>5</td>\n      <td>Safety and Wellbeing Assessments</td>\n      <td>Midwest-Gascoyne</td>\n      <td>Aboriginal</td>\n      <td>0 - 17 Years</td>\n      <td>All</td>\n      <td>471</td>\n      <td>2015-16</td>\n    </tr>\n  </tbody>\n</table>\n</div>"
     },
     "metadata": {},
     "execution_count": 4
    }
   ],
   "source": [
    "#reading in CSV file\n",
    "assessed_df = pd.read_csv(\"assessed.csv\")\n",
    "assessed_df.head()"
   ]
  },
  {
   "cell_type": "code",
   "execution_count": 5,
   "metadata": {},
   "outputs": [
    {
     "output_type": "execute_result",
     "data": {
      "text/plain": "   _id         Indicator           AACC Region  Aboriginality Gender  Count  \\\n0    1  Children in care        East Kimberley  NonAboriginal    All      0   \n1    2  Children in care        East Kimberley     Aboriginal    All     91   \n2    3  Children in care  Goldfields-Esperance  NonAboriginal    All     34   \n3    4  Children in care  Goldfields-Esperance     Aboriginal    All     69   \n4    5  Children in care      Midwest-Gascoyne     Aboriginal    All     94   \n\n   Year  \n0  2008  \n1  2008  \n2  2008  \n3  2008  \n4  2008  ",
      "text/html": "<div>\n<style scoped>\n    .dataframe tbody tr th:only-of-type {\n        vertical-align: middle;\n    }\n\n    .dataframe tbody tr th {\n        vertical-align: top;\n    }\n\n    .dataframe thead th {\n        text-align: right;\n    }\n</style>\n<table border=\"1\" class=\"dataframe\">\n  <thead>\n    <tr style=\"text-align: right;\">\n      <th></th>\n      <th>_id</th>\n      <th>Indicator</th>\n      <th>AACC Region</th>\n      <th>Aboriginality</th>\n      <th>Gender</th>\n      <th>Count</th>\n      <th>Year</th>\n    </tr>\n  </thead>\n  <tbody>\n    <tr>\n      <th>0</th>\n      <td>1</td>\n      <td>Children in care</td>\n      <td>East Kimberley</td>\n      <td>NonAboriginal</td>\n      <td>All</td>\n      <td>0</td>\n      <td>2008</td>\n    </tr>\n    <tr>\n      <th>1</th>\n      <td>2</td>\n      <td>Children in care</td>\n      <td>East Kimberley</td>\n      <td>Aboriginal</td>\n      <td>All</td>\n      <td>91</td>\n      <td>2008</td>\n    </tr>\n    <tr>\n      <th>2</th>\n      <td>3</td>\n      <td>Children in care</td>\n      <td>Goldfields-Esperance</td>\n      <td>NonAboriginal</td>\n      <td>All</td>\n      <td>34</td>\n      <td>2008</td>\n    </tr>\n    <tr>\n      <th>3</th>\n      <td>4</td>\n      <td>Children in care</td>\n      <td>Goldfields-Esperance</td>\n      <td>Aboriginal</td>\n      <td>All</td>\n      <td>69</td>\n      <td>2008</td>\n    </tr>\n    <tr>\n      <th>4</th>\n      <td>5</td>\n      <td>Children in care</td>\n      <td>Midwest-Gascoyne</td>\n      <td>Aboriginal</td>\n      <td>All</td>\n      <td>94</td>\n      <td>2008</td>\n    </tr>\n  </tbody>\n</table>\n</div>"
     },
     "metadata": {},
     "execution_count": 5
    }
   ],
   "source": [
    "# Delete age group column (not required)\n",
    "del care_df['Age Group']\n",
    "care_df.head()"
   ]
  },
  {
   "cell_type": "code",
   "execution_count": 7,
   "metadata": {},
   "outputs": [],
   "source": [
    "#care2_df = care_df.set_index('Year')"
   ]
  },
  {
   "cell_type": "code",
   "execution_count": 8,
   "metadata": {},
   "outputs": [
    {
     "output_type": "execute_result",
     "data": {
      "text/plain": "      _id         Indicator           AACC Region  Aboriginality Gender  Count\nYear                                                                          \n2008    1  Children in care        East Kimberley  NonAboriginal    All      0\n2008    2  Children in care        East Kimberley     Aboriginal    All     91\n2008    3  Children in care  Goldfields-Esperance  NonAboriginal    All     34\n2008    4  Children in care  Goldfields-Esperance     Aboriginal    All     69\n2008    5  Children in care      Midwest-Gascoyne     Aboriginal    All     94\n...   ...               ...                   ...            ...    ...    ...\n2017  176  Children in care     Western Australia  NonAboriginal    All   2192\n2017  177  Children in care             Wheatbelt     Aboriginal    All    163\n2017  178  Children in care             Wheatbelt  NonAboriginal    All     90\n2017  179  Children in care        West Kimberley     Aboriginal    All    176\n2017  180  Children in care        West Kimberley  NonAboriginal    All      1\n\n[180 rows x 6 columns]",
      "text/html": "<div>\n<style scoped>\n    .dataframe tbody tr th:only-of-type {\n        vertical-align: middle;\n    }\n\n    .dataframe tbody tr th {\n        vertical-align: top;\n    }\n\n    .dataframe thead th {\n        text-align: right;\n    }\n</style>\n<table border=\"1\" class=\"dataframe\">\n  <thead>\n    <tr style=\"text-align: right;\">\n      <th></th>\n      <th>_id</th>\n      <th>Indicator</th>\n      <th>AACC Region</th>\n      <th>Aboriginality</th>\n      <th>Gender</th>\n      <th>Count</th>\n    </tr>\n    <tr>\n      <th>Year</th>\n      <th></th>\n      <th></th>\n      <th></th>\n      <th></th>\n      <th></th>\n      <th></th>\n    </tr>\n  </thead>\n  <tbody>\n    <tr>\n      <th>2008</th>\n      <td>1</td>\n      <td>Children in care</td>\n      <td>East Kimberley</td>\n      <td>NonAboriginal</td>\n      <td>All</td>\n      <td>0</td>\n    </tr>\n    <tr>\n      <th>2008</th>\n      <td>2</td>\n      <td>Children in care</td>\n      <td>East Kimberley</td>\n      <td>Aboriginal</td>\n      <td>All</td>\n      <td>91</td>\n    </tr>\n    <tr>\n      <th>2008</th>\n      <td>3</td>\n      <td>Children in care</td>\n      <td>Goldfields-Esperance</td>\n      <td>NonAboriginal</td>\n      <td>All</td>\n      <td>34</td>\n    </tr>\n    <tr>\n      <th>2008</th>\n      <td>4</td>\n      <td>Children in care</td>\n      <td>Goldfields-Esperance</td>\n      <td>Aboriginal</td>\n      <td>All</td>\n      <td>69</td>\n    </tr>\n    <tr>\n      <th>2008</th>\n      <td>5</td>\n      <td>Children in care</td>\n      <td>Midwest-Gascoyne</td>\n      <td>Aboriginal</td>\n      <td>All</td>\n      <td>94</td>\n    </tr>\n    <tr>\n      <th>...</th>\n      <td>...</td>\n      <td>...</td>\n      <td>...</td>\n      <td>...</td>\n      <td>...</td>\n      <td>...</td>\n    </tr>\n    <tr>\n      <th>2017</th>\n      <td>176</td>\n      <td>Children in care</td>\n      <td>Western Australia</td>\n      <td>NonAboriginal</td>\n      <td>All</td>\n      <td>2192</td>\n    </tr>\n    <tr>\n      <th>2017</th>\n      <td>177</td>\n      <td>Children in care</td>\n      <td>Wheatbelt</td>\n      <td>Aboriginal</td>\n      <td>All</td>\n      <td>163</td>\n    </tr>\n    <tr>\n      <th>2017</th>\n      <td>178</td>\n      <td>Children in care</td>\n      <td>Wheatbelt</td>\n      <td>NonAboriginal</td>\n      <td>All</td>\n      <td>90</td>\n    </tr>\n    <tr>\n      <th>2017</th>\n      <td>179</td>\n      <td>Children in care</td>\n      <td>West Kimberley</td>\n      <td>Aboriginal</td>\n      <td>All</td>\n      <td>176</td>\n    </tr>\n    <tr>\n      <th>2017</th>\n      <td>180</td>\n      <td>Children in care</td>\n      <td>West Kimberley</td>\n      <td>NonAboriginal</td>\n      <td>All</td>\n      <td>1</td>\n    </tr>\n  </tbody>\n</table>\n<p>180 rows × 6 columns</p>\n</div>"
     },
     "metadata": {},
     "execution_count": 8
    }
   ],
   "source": [
    "#care2_df"
   ]
  },
  {
   "cell_type": "code",
   "execution_count": 10,
   "metadata": {},
   "outputs": [
    {
     "output_type": "execute_result",
     "data": {
      "text/plain": "     _id         Indicator           AACC Region  Aboriginality Gender  Count  \\\n126  127  Children in care        East Kimberley     Aboriginal    All    144   \n127  128  Children in care        East Kimberley  NonAboriginal    All      0   \n128  129  Children in care  Goldfields-Esperance  NonAboriginal    All     23   \n129  130  Children in care  Goldfields-Esperance     Aboriginal    All    135   \n130  131  Children in care      Midwest-Gascoyne     Aboriginal    All    142   \n\n     Year  \n126  2015  \n127  2015  \n128  2015  \n129  2015  \n130  2015  ",
      "text/html": "<div>\n<style scoped>\n    .dataframe tbody tr th:only-of-type {\n        vertical-align: middle;\n    }\n\n    .dataframe tbody tr th {\n        vertical-align: top;\n    }\n\n    .dataframe thead th {\n        text-align: right;\n    }\n</style>\n<table border=\"1\" class=\"dataframe\">\n  <thead>\n    <tr style=\"text-align: right;\">\n      <th></th>\n      <th>_id</th>\n      <th>Indicator</th>\n      <th>AACC Region</th>\n      <th>Aboriginality</th>\n      <th>Gender</th>\n      <th>Count</th>\n      <th>Year</th>\n    </tr>\n  </thead>\n  <tbody>\n    <tr>\n      <th>126</th>\n      <td>127</td>\n      <td>Children in care</td>\n      <td>East Kimberley</td>\n      <td>Aboriginal</td>\n      <td>All</td>\n      <td>144</td>\n      <td>2015</td>\n    </tr>\n    <tr>\n      <th>127</th>\n      <td>128</td>\n      <td>Children in care</td>\n      <td>East Kimberley</td>\n      <td>NonAboriginal</td>\n      <td>All</td>\n      <td>0</td>\n      <td>2015</td>\n    </tr>\n    <tr>\n      <th>128</th>\n      <td>129</td>\n      <td>Children in care</td>\n      <td>Goldfields-Esperance</td>\n      <td>NonAboriginal</td>\n      <td>All</td>\n      <td>23</td>\n      <td>2015</td>\n    </tr>\n    <tr>\n      <th>129</th>\n      <td>130</td>\n      <td>Children in care</td>\n      <td>Goldfields-Esperance</td>\n      <td>Aboriginal</td>\n      <td>All</td>\n      <td>135</td>\n      <td>2015</td>\n    </tr>\n    <tr>\n      <th>130</th>\n      <td>131</td>\n      <td>Children in care</td>\n      <td>Midwest-Gascoyne</td>\n      <td>Aboriginal</td>\n      <td>All</td>\n      <td>142</td>\n      <td>2015</td>\n    </tr>\n  </tbody>\n</table>\n</div>"
     },
     "metadata": {},
     "execution_count": 10
    }
   ],
   "source": [
    "#delete years prior to 2015\n",
    "care2_df = care_df.loc[care_df['Year']>2014]\n",
    "care2_df.head()"
   ]
  },
  {
   "cell_type": "code",
   "execution_count": 11,
   "metadata": {},
   "outputs": [
    {
     "output_type": "execute_result",
     "data": {
      "text/plain": "     _id         Indicator        AACC Region  Aboriginality Gender  Count  \\\n157  158  Children in care  Western Australia  NonAboriginal    All   2178   \n158  159  Children in care          Wheatbelt     Aboriginal    All    142   \n159  160  Children in care          Wheatbelt  NonAboriginal    All    101   \n160  161  Children in care     West Kimberley     Aboriginal    All    189   \n161  162  Children in care     West Kimberley  NonAboriginal    All      1   \n\n     Year  \n157  2016  \n158  2016  \n159  2016  \n160  2016  \n161  2016  ",
      "text/html": "<div>\n<style scoped>\n    .dataframe tbody tr th:only-of-type {\n        vertical-align: middle;\n    }\n\n    .dataframe tbody tr th {\n        vertical-align: top;\n    }\n\n    .dataframe thead th {\n        text-align: right;\n    }\n</style>\n<table border=\"1\" class=\"dataframe\">\n  <thead>\n    <tr style=\"text-align: right;\">\n      <th></th>\n      <th>_id</th>\n      <th>Indicator</th>\n      <th>AACC Region</th>\n      <th>Aboriginality</th>\n      <th>Gender</th>\n      <th>Count</th>\n      <th>Year</th>\n    </tr>\n  </thead>\n  <tbody>\n    <tr>\n      <th>157</th>\n      <td>158</td>\n      <td>Children in care</td>\n      <td>Western Australia</td>\n      <td>NonAboriginal</td>\n      <td>All</td>\n      <td>2178</td>\n      <td>2016</td>\n    </tr>\n    <tr>\n      <th>158</th>\n      <td>159</td>\n      <td>Children in care</td>\n      <td>Wheatbelt</td>\n      <td>Aboriginal</td>\n      <td>All</td>\n      <td>142</td>\n      <td>2016</td>\n    </tr>\n    <tr>\n      <th>159</th>\n      <td>160</td>\n      <td>Children in care</td>\n      <td>Wheatbelt</td>\n      <td>NonAboriginal</td>\n      <td>All</td>\n      <td>101</td>\n      <td>2016</td>\n    </tr>\n    <tr>\n      <th>160</th>\n      <td>161</td>\n      <td>Children in care</td>\n      <td>West Kimberley</td>\n      <td>Aboriginal</td>\n      <td>All</td>\n      <td>189</td>\n      <td>2016</td>\n    </tr>\n    <tr>\n      <th>161</th>\n      <td>162</td>\n      <td>Children in care</td>\n      <td>West Kimberley</td>\n      <td>NonAboriginal</td>\n      <td>All</td>\n      <td>1</td>\n      <td>2016</td>\n    </tr>\n  </tbody>\n</table>\n</div>"
     },
     "metadata": {},
     "execution_count": 11
    }
   ],
   "source": [
    "#Delete years after 2016\n",
    "care3_df = care2_df.loc[care2_df['Year']<2017]\n",
    "care3_df.tail()"
   ]
  },
  {
   "cell_type": "code",
   "execution_count": null,
   "metadata": {},
   "outputs": [],
   "source": []
  }
 ]
}