{
 "metadata": {
  "language_info": {
   "codemirror_mode": {
    "name": "ipython",
    "version": 3
   },
   "file_extension": ".py",
   "mimetype": "text/x-python",
   "name": "python",
   "nbconvert_exporter": "python",
   "pygments_lexer": "ipython3",
   "version": "3.7.6-final"
  },
  "orig_nbformat": 2,
  "kernelspec": {
   "name": "python_defaultSpec_1598679854622",
   "display_name": "Python 3.7.6 64-bit ('base': conda)"
  }
 },
 "nbformat": 4,
 "nbformat_minor": 2,
 "cells": [
  {
   "cell_type": "markdown",
   "metadata": {},
   "source": [
    "#ETL PROJECT - Chiara Galbraith\n"
   ]
  },
  {
   "cell_type": "markdown",
   "metadata": {},
   "source": [
    "EXTRACTION\n",
    "\n",
    "Download cvs file from data.wa.gov.au to local folder (PROJECT_2)\n",
    "\n",
    "Children in the CEO's care on 30 June 2008-2017\n",
    "https://catalogue.data.wa.gov.au/dataset/cbbcac73-1948-4722-82df-50fcfedf1660/resource/0109e6d3-a77c-4ace-8be2-9c36267c4279/download/dpc-data.csv\n",
    "\n",
    "Safety and wellbeing assessements undertaken where concerns for childern were investigated by the Department for Child Protection and Family Support during 2015-16 and 2016-17\n",
    "https://catalogue.data.wa.gov.au/dataset/10183f4f-b656-4204-b6c0-b471aad68de7/resource/d47adbf5-78ab-4d9e-9498-5e48c26df88d/download/swa-dpc-data.csv\n",
    "\n",
    "Create a Python file in VS Code import the two csv files\n",
    "\n",
    "TRANSFORM \n",
    "\n",
    "CLEANING: Delete age group column from care_df because all the age ranges are 0-17 years therefore this column does not provide any useful information.\n",
    "\n",
    "CLEANING: Delete gender from care_df as the gender is not disclosed therefore the column is not relevant.\n",
    "\n",
    "FILTERING: The data for assessments was only for the periods 2015-16 and 2016-17 whereas the children in care data began in 2008 and went beyond 2017. \n",
    "\n",
    "For the care data to be able to be compared with the assessment data the years needed to be compatible. To acheive this all data for the years prior to 2015 were removed (dropped) and all the data after the year 2016 were removed (dropped).\n",
    "\n",
    "CLEANING: Then repeated the deletion of gender and age from the care data as per the assessed data.\n",
    "\n",
    "CLEANING: Because the assessment data read as 2016-16 and 2016-17, again for ease of comparison only the first section of the date was kept. 2015-16 became 2015 by removing the \"-\" then dropping the last 2 digits \"-2\". This was repeated for the 2016-17 year to \n",
    "become 2017.\n",
    "\n",
    "To ensure compatibility, the ACC Regions in both data sets were compared. These matched.\n",
    "\n",
    "To enable a merge of the 2 data bases an index was added to the care df.\n",
    "\n",
    "MERGE: The two dataframes were merged but to differentiate between the care data columns and the assessment data columns a suffix of care or assessed was added to column names. eg Count_care and Count_assessed.\n",
    "\n",
    "A new data frame was created that only included the columns required in the preferred order. This was because both data sets had the same headings therefore it was the most efficient way to remove \"duplicates\" eg AACC Regions_assessed and AACC Regions_care. In the end the only two data columns from both data sets included were \"Count_assessed\" and \"Count_care\"\n",
    "\n",
    "CLEANING: All column headings were renamed.\n",
    "\n",
    "LOADING\n",
    "A new database ETL_DB was created in PGAdmin.\n",
    "\n",
    "A table called children_at_risk was created with in the database with the headings that correspond to the final python data frame.\n",
    "\n",
    "In python a connection was created with the data base in postgres.\n",
    "\n",
    "Then the final data frame in python was connected the the table created in the postres with data from the data frame being populated into the table.\n",
    "\n",
    "\n",
    "ISSUES encountered:\n",
    "\n",
    "EXTRACTING: The csv files that were originally downloaded must have become corrupted as they would not load in VScode via jupyter or python. The error kept reading file does not exist. The csb files were moved to different locations and on the face of it there was no way to know that there were issues with actual file. When the files were deleted and then downloaded again the process was simple.\n",
    "\n",
    "LOADING: Issues included postgres only appears to read lowercase letters in the headers and does not like spaces. First moving spaces and changing the headings in postgres and python did not work, it wasnt until the table schema was open and the columns wiht in there expanded was it obvious that the reason python and postgres were not connecting was because in Postgres it converted all capitals in the header to lower case. Again this was not obvious and therefore a lot of time was lost trying to problem solve this process.\n",
    " \n",
    "\n",
    "\n",
    "\n",
    "\n",
    "\n",
    "\n",
    "\n"
   ]
  },
  {
   "cell_type": "markdown",
   "metadata": {},
   "source": []
  },
  {
   "cell_type": "code",
   "execution_count": 1,
   "metadata": {},
   "outputs": [],
   "source": [
    "import pandas as pd     \n",
    "from sqlalchemy import create_engine"
   ]
  },
  {
   "cell_type": "code",
   "execution_count": 2,
   "metadata": {},
   "outputs": [
    {
     "output_type": "execute_result",
     "data": {
      "text/plain": "   _id         Indicator           AACC Region  Aboriginality     Age Group  \\\n0    1  Children in care        East Kimberley  NonAboriginal  0 - 17 Years   \n1    2  Children in care        East Kimberley     Aboriginal  0 - 17 Years   \n2    3  Children in care  Goldfields-Esperance  NonAboriginal  0 - 17 Years   \n3    4  Children in care  Goldfields-Esperance     Aboriginal  0 - 17 Years   \n4    5  Children in care      Midwest-Gascoyne     Aboriginal  0 - 17 Years   \n\n  Gender  Count  Year  \n0    All      0  2008  \n1    All     91  2008  \n2    All     34  2008  \n3    All     69  2008  \n4    All     94  2008  ",
      "text/html": "<div>\n<style scoped>\n    .dataframe tbody tr th:only-of-type {\n        vertical-align: middle;\n    }\n\n    .dataframe tbody tr th {\n        vertical-align: top;\n    }\n\n    .dataframe thead th {\n        text-align: right;\n    }\n</style>\n<table border=\"1\" class=\"dataframe\">\n  <thead>\n    <tr style=\"text-align: right;\">\n      <th></th>\n      <th>_id</th>\n      <th>Indicator</th>\n      <th>AACC Region</th>\n      <th>Aboriginality</th>\n      <th>Age Group</th>\n      <th>Gender</th>\n      <th>Count</th>\n      <th>Year</th>\n    </tr>\n  </thead>\n  <tbody>\n    <tr>\n      <th>0</th>\n      <td>1</td>\n      <td>Children in care</td>\n      <td>East Kimberley</td>\n      <td>NonAboriginal</td>\n      <td>0 - 17 Years</td>\n      <td>All</td>\n      <td>0</td>\n      <td>2008</td>\n    </tr>\n    <tr>\n      <th>1</th>\n      <td>2</td>\n      <td>Children in care</td>\n      <td>East Kimberley</td>\n      <td>Aboriginal</td>\n      <td>0 - 17 Years</td>\n      <td>All</td>\n      <td>91</td>\n      <td>2008</td>\n    </tr>\n    <tr>\n      <th>2</th>\n      <td>3</td>\n      <td>Children in care</td>\n      <td>Goldfields-Esperance</td>\n      <td>NonAboriginal</td>\n      <td>0 - 17 Years</td>\n      <td>All</td>\n      <td>34</td>\n      <td>2008</td>\n    </tr>\n    <tr>\n      <th>3</th>\n      <td>4</td>\n      <td>Children in care</td>\n      <td>Goldfields-Esperance</td>\n      <td>Aboriginal</td>\n      <td>0 - 17 Years</td>\n      <td>All</td>\n      <td>69</td>\n      <td>2008</td>\n    </tr>\n    <tr>\n      <th>4</th>\n      <td>5</td>\n      <td>Children in care</td>\n      <td>Midwest-Gascoyne</td>\n      <td>Aboriginal</td>\n      <td>0 - 17 Years</td>\n      <td>All</td>\n      <td>94</td>\n      <td>2008</td>\n    </tr>\n  </tbody>\n</table>\n</div>"
     },
     "metadata": {},
     "execution_count": 2
    }
   ],
   "source": [
    "#(E)xtract\n",
    "#reading in CSV file\n",
    "care_df = pd.read_csv(\"care.csv\")\n",
    "care_df.head()"
   ]
  },
  {
   "cell_type": "code",
   "execution_count": 3,
   "metadata": {},
   "outputs": [
    {
     "output_type": "execute_result",
     "data": {
      "text/plain": "   _id                         Indicator           AACC Region  Aboriginality  \\\n0    1  Safety and Wellbeing Assessments        East Kimberley     Aboriginal   \n1    2  Safety and Wellbeing Assessments        East Kimberley  NonAboriginal   \n2    3  Safety and Wellbeing Assessments  Goldfields-Esperance     Aboriginal   \n3    4  Safety and Wellbeing Assessments  Goldfields-Esperance  NonAboriginal   \n4    5  Safety and Wellbeing Assessments      Midwest-Gascoyne     Aboriginal   \n\n      Age Group Gender  Count     Year  \n0  0 - 17 Years    All    325  2015-16  \n1  0 - 17 Years    All      4  2015-16  \n2  0 - 17 Years    All    193  2015-16  \n3  0 - 17 Years    All    126  2015-16  \n4  0 - 17 Years    All    471  2015-16  ",
      "text/html": "<div>\n<style scoped>\n    .dataframe tbody tr th:only-of-type {\n        vertical-align: middle;\n    }\n\n    .dataframe tbody tr th {\n        vertical-align: top;\n    }\n\n    .dataframe thead th {\n        text-align: right;\n    }\n</style>\n<table border=\"1\" class=\"dataframe\">\n  <thead>\n    <tr style=\"text-align: right;\">\n      <th></th>\n      <th>_id</th>\n      <th>Indicator</th>\n      <th>AACC Region</th>\n      <th>Aboriginality</th>\n      <th>Age Group</th>\n      <th>Gender</th>\n      <th>Count</th>\n      <th>Year</th>\n    </tr>\n  </thead>\n  <tbody>\n    <tr>\n      <th>0</th>\n      <td>1</td>\n      <td>Safety and Wellbeing Assessments</td>\n      <td>East Kimberley</td>\n      <td>Aboriginal</td>\n      <td>0 - 17 Years</td>\n      <td>All</td>\n      <td>325</td>\n      <td>2015-16</td>\n    </tr>\n    <tr>\n      <th>1</th>\n      <td>2</td>\n      <td>Safety and Wellbeing Assessments</td>\n      <td>East Kimberley</td>\n      <td>NonAboriginal</td>\n      <td>0 - 17 Years</td>\n      <td>All</td>\n      <td>4</td>\n      <td>2015-16</td>\n    </tr>\n    <tr>\n      <th>2</th>\n      <td>3</td>\n      <td>Safety and Wellbeing Assessments</td>\n      <td>Goldfields-Esperance</td>\n      <td>Aboriginal</td>\n      <td>0 - 17 Years</td>\n      <td>All</td>\n      <td>193</td>\n      <td>2015-16</td>\n    </tr>\n    <tr>\n      <th>3</th>\n      <td>4</td>\n      <td>Safety and Wellbeing Assessments</td>\n      <td>Goldfields-Esperance</td>\n      <td>NonAboriginal</td>\n      <td>0 - 17 Years</td>\n      <td>All</td>\n      <td>126</td>\n      <td>2015-16</td>\n    </tr>\n    <tr>\n      <th>4</th>\n      <td>5</td>\n      <td>Safety and Wellbeing Assessments</td>\n      <td>Midwest-Gascoyne</td>\n      <td>Aboriginal</td>\n      <td>0 - 17 Years</td>\n      <td>All</td>\n      <td>471</td>\n      <td>2015-16</td>\n    </tr>\n  </tbody>\n</table>\n</div>"
     },
     "metadata": {},
     "execution_count": 3
    }
   ],
   "source": [
    "#(E)xtract\n",
    "#reading in CSV file\n",
    "assessed_df = pd.read_csv(\"assessed.csv\")\n",
    "assessed_df.head()"
   ]
  },
  {
   "cell_type": "code",
   "execution_count": 4,
   "metadata": {},
   "outputs": [
    {
     "output_type": "execute_result",
     "data": {
      "text/plain": "   _id         Indicator           AACC Region  Aboriginality Gender  Count  \\\n0    1  Children in care        East Kimberley  NonAboriginal    All      0   \n1    2  Children in care        East Kimberley     Aboriginal    All     91   \n2    3  Children in care  Goldfields-Esperance  NonAboriginal    All     34   \n3    4  Children in care  Goldfields-Esperance     Aboriginal    All     69   \n4    5  Children in care      Midwest-Gascoyne     Aboriginal    All     94   \n\n   Year  \n0  2008  \n1  2008  \n2  2008  \n3  2008  \n4  2008  ",
      "text/html": "<div>\n<style scoped>\n    .dataframe tbody tr th:only-of-type {\n        vertical-align: middle;\n    }\n\n    .dataframe tbody tr th {\n        vertical-align: top;\n    }\n\n    .dataframe thead th {\n        text-align: right;\n    }\n</style>\n<table border=\"1\" class=\"dataframe\">\n  <thead>\n    <tr style=\"text-align: right;\">\n      <th></th>\n      <th>_id</th>\n      <th>Indicator</th>\n      <th>AACC Region</th>\n      <th>Aboriginality</th>\n      <th>Gender</th>\n      <th>Count</th>\n      <th>Year</th>\n    </tr>\n  </thead>\n  <tbody>\n    <tr>\n      <th>0</th>\n      <td>1</td>\n      <td>Children in care</td>\n      <td>East Kimberley</td>\n      <td>NonAboriginal</td>\n      <td>All</td>\n      <td>0</td>\n      <td>2008</td>\n    </tr>\n    <tr>\n      <th>1</th>\n      <td>2</td>\n      <td>Children in care</td>\n      <td>East Kimberley</td>\n      <td>Aboriginal</td>\n      <td>All</td>\n      <td>91</td>\n      <td>2008</td>\n    </tr>\n    <tr>\n      <th>2</th>\n      <td>3</td>\n      <td>Children in care</td>\n      <td>Goldfields-Esperance</td>\n      <td>NonAboriginal</td>\n      <td>All</td>\n      <td>34</td>\n      <td>2008</td>\n    </tr>\n    <tr>\n      <th>3</th>\n      <td>4</td>\n      <td>Children in care</td>\n      <td>Goldfields-Esperance</td>\n      <td>Aboriginal</td>\n      <td>All</td>\n      <td>69</td>\n      <td>2008</td>\n    </tr>\n    <tr>\n      <th>4</th>\n      <td>5</td>\n      <td>Children in care</td>\n      <td>Midwest-Gascoyne</td>\n      <td>Aboriginal</td>\n      <td>All</td>\n      <td>94</td>\n      <td>2008</td>\n    </tr>\n  </tbody>\n</table>\n</div>"
     },
     "metadata": {},
     "execution_count": 4
    }
   ],
   "source": [
    "#(T)ransform\n",
    "# Delete age group column (not required)\n",
    "del care_df['Age Group']\n",
    "care_df.head()"
   ]
  },
  {
   "cell_type": "code",
   "execution_count": 5,
   "metadata": {},
   "outputs": [
    {
     "output_type": "execute_result",
     "data": {
      "text/plain": "   _id         Indicator           AACC Region  Aboriginality  Count  Year\n0    1  Children in care        East Kimberley  NonAboriginal      0  2008\n1    2  Children in care        East Kimberley     Aboriginal     91  2008\n2    3  Children in care  Goldfields-Esperance  NonAboriginal     34  2008\n3    4  Children in care  Goldfields-Esperance     Aboriginal     69  2008\n4    5  Children in care      Midwest-Gascoyne     Aboriginal     94  2008",
      "text/html": "<div>\n<style scoped>\n    .dataframe tbody tr th:only-of-type {\n        vertical-align: middle;\n    }\n\n    .dataframe tbody tr th {\n        vertical-align: top;\n    }\n\n    .dataframe thead th {\n        text-align: right;\n    }\n</style>\n<table border=\"1\" class=\"dataframe\">\n  <thead>\n    <tr style=\"text-align: right;\">\n      <th></th>\n      <th>_id</th>\n      <th>Indicator</th>\n      <th>AACC Region</th>\n      <th>Aboriginality</th>\n      <th>Count</th>\n      <th>Year</th>\n    </tr>\n  </thead>\n  <tbody>\n    <tr>\n      <th>0</th>\n      <td>1</td>\n      <td>Children in care</td>\n      <td>East Kimberley</td>\n      <td>NonAboriginal</td>\n      <td>0</td>\n      <td>2008</td>\n    </tr>\n    <tr>\n      <th>1</th>\n      <td>2</td>\n      <td>Children in care</td>\n      <td>East Kimberley</td>\n      <td>Aboriginal</td>\n      <td>91</td>\n      <td>2008</td>\n    </tr>\n    <tr>\n      <th>2</th>\n      <td>3</td>\n      <td>Children in care</td>\n      <td>Goldfields-Esperance</td>\n      <td>NonAboriginal</td>\n      <td>34</td>\n      <td>2008</td>\n    </tr>\n    <tr>\n      <th>3</th>\n      <td>4</td>\n      <td>Children in care</td>\n      <td>Goldfields-Esperance</td>\n      <td>Aboriginal</td>\n      <td>69</td>\n      <td>2008</td>\n    </tr>\n    <tr>\n      <th>4</th>\n      <td>5</td>\n      <td>Children in care</td>\n      <td>Midwest-Gascoyne</td>\n      <td>Aboriginal</td>\n      <td>94</td>\n      <td>2008</td>\n    </tr>\n  </tbody>\n</table>\n</div>"
     },
     "metadata": {},
     "execution_count": 5
    }
   ],
   "source": [
    "#(T)ransform\n",
    "#Delete gender (not relevant)\n",
    "del care_df['Gender']\n",
    "care_df.head()"
   ]
  },
  {
   "cell_type": "code",
   "execution_count": 6,
   "metadata": {},
   "outputs": [
    {
     "output_type": "execute_result",
     "data": {
      "text/plain": "     _id         Indicator           AACC Region  Aboriginality  Count  Year\n126  127  Children in care        East Kimberley     Aboriginal    144  2015\n127  128  Children in care        East Kimberley  NonAboriginal      0  2015\n128  129  Children in care  Goldfields-Esperance  NonAboriginal     23  2015\n129  130  Children in care  Goldfields-Esperance     Aboriginal    135  2015\n130  131  Children in care      Midwest-Gascoyne     Aboriginal    142  2015",
      "text/html": "<div>\n<style scoped>\n    .dataframe tbody tr th:only-of-type {\n        vertical-align: middle;\n    }\n\n    .dataframe tbody tr th {\n        vertical-align: top;\n    }\n\n    .dataframe thead th {\n        text-align: right;\n    }\n</style>\n<table border=\"1\" class=\"dataframe\">\n  <thead>\n    <tr style=\"text-align: right;\">\n      <th></th>\n      <th>_id</th>\n      <th>Indicator</th>\n      <th>AACC Region</th>\n      <th>Aboriginality</th>\n      <th>Count</th>\n      <th>Year</th>\n    </tr>\n  </thead>\n  <tbody>\n    <tr>\n      <th>126</th>\n      <td>127</td>\n      <td>Children in care</td>\n      <td>East Kimberley</td>\n      <td>Aboriginal</td>\n      <td>144</td>\n      <td>2015</td>\n    </tr>\n    <tr>\n      <th>127</th>\n      <td>128</td>\n      <td>Children in care</td>\n      <td>East Kimberley</td>\n      <td>NonAboriginal</td>\n      <td>0</td>\n      <td>2015</td>\n    </tr>\n    <tr>\n      <th>128</th>\n      <td>129</td>\n      <td>Children in care</td>\n      <td>Goldfields-Esperance</td>\n      <td>NonAboriginal</td>\n      <td>23</td>\n      <td>2015</td>\n    </tr>\n    <tr>\n      <th>129</th>\n      <td>130</td>\n      <td>Children in care</td>\n      <td>Goldfields-Esperance</td>\n      <td>Aboriginal</td>\n      <td>135</td>\n      <td>2015</td>\n    </tr>\n    <tr>\n      <th>130</th>\n      <td>131</td>\n      <td>Children in care</td>\n      <td>Midwest-Gascoyne</td>\n      <td>Aboriginal</td>\n      <td>142</td>\n      <td>2015</td>\n    </tr>\n  </tbody>\n</table>\n</div>"
     },
     "metadata": {},
     "execution_count": 6
    }
   ],
   "source": [
    "#(T)ransform\n",
    "#delete years prior to 2015\n",
    "care2_df = care_df.loc[care_df['Year']>2014]\n",
    "care2_df.head()"
   ]
  },
  {
   "cell_type": "code",
   "execution_count": 7,
   "metadata": {
    "tags": []
   },
   "outputs": [
    {
     "output_type": "stream",
     "name": "stdout",
     "text": "<class 'pandas.core.frame.DataFrame'>\nInt64Index: 36 entries, 126 to 161\nData columns (total 6 columns):\n #   Column         Non-Null Count  Dtype \n---  ------         --------------  ----- \n 0   _id            36 non-null     int64 \n 1   Indicator      36 non-null     object\n 2   AACC Region    36 non-null     object\n 3   Aboriginality  36 non-null     object\n 4   Count          36 non-null     int64 \n 5   Year           36 non-null     int64 \ndtypes: int64(3), object(3)\nmemory usage: 2.0+ KB\n"
    }
   ],
   "source": [
    "#(T)ransform\n",
    "#Delete years after 2016\n",
    "care3_df = care2_df.loc[care2_df['Year']<2017]\n",
    "care3_df.info()"
   ]
  },
  {
   "cell_type": "code",
   "execution_count": 8,
   "metadata": {},
   "outputs": [
    {
     "output_type": "execute_result",
     "data": {
      "text/plain": "     _id         Indicator           AACC Region  Aboriginality  Count  Year  \\\n126  127  Children in care        East Kimberley     Aboriginal    144  2015   \n127  128  Children in care        East Kimberley  NonAboriginal      0  2015   \n128  129  Children in care  Goldfields-Esperance  NonAboriginal     23  2015   \n129  130  Children in care  Goldfields-Esperance     Aboriginal    135  2015   \n130  131  Children in care      Midwest-Gascoyne     Aboriginal    142  2015   \n\n     id1  \n126    0  \n127    1  \n128    2  \n129    3  \n130    4  ",
      "text/html": "<div>\n<style scoped>\n    .dataframe tbody tr th:only-of-type {\n        vertical-align: middle;\n    }\n\n    .dataframe tbody tr th {\n        vertical-align: top;\n    }\n\n    .dataframe thead th {\n        text-align: right;\n    }\n</style>\n<table border=\"1\" class=\"dataframe\">\n  <thead>\n    <tr style=\"text-align: right;\">\n      <th></th>\n      <th>_id</th>\n      <th>Indicator</th>\n      <th>AACC Region</th>\n      <th>Aboriginality</th>\n      <th>Count</th>\n      <th>Year</th>\n      <th>id1</th>\n    </tr>\n  </thead>\n  <tbody>\n    <tr>\n      <th>126</th>\n      <td>127</td>\n      <td>Children in care</td>\n      <td>East Kimberley</td>\n      <td>Aboriginal</td>\n      <td>144</td>\n      <td>2015</td>\n      <td>0</td>\n    </tr>\n    <tr>\n      <th>127</th>\n      <td>128</td>\n      <td>Children in care</td>\n      <td>East Kimberley</td>\n      <td>NonAboriginal</td>\n      <td>0</td>\n      <td>2015</td>\n      <td>1</td>\n    </tr>\n    <tr>\n      <th>128</th>\n      <td>129</td>\n      <td>Children in care</td>\n      <td>Goldfields-Esperance</td>\n      <td>NonAboriginal</td>\n      <td>23</td>\n      <td>2015</td>\n      <td>2</td>\n    </tr>\n    <tr>\n      <th>129</th>\n      <td>130</td>\n      <td>Children in care</td>\n      <td>Goldfields-Esperance</td>\n      <td>Aboriginal</td>\n      <td>135</td>\n      <td>2015</td>\n      <td>3</td>\n    </tr>\n    <tr>\n      <th>130</th>\n      <td>131</td>\n      <td>Children in care</td>\n      <td>Midwest-Gascoyne</td>\n      <td>Aboriginal</td>\n      <td>142</td>\n      <td>2015</td>\n      <td>4</td>\n    </tr>\n  </tbody>\n</table>\n</div>"
     },
     "metadata": {},
     "execution_count": 8
    }
   ],
   "source": [
    "#(T)ransform\n",
    "care4_df=care3_df\n",
    "care4_df['id1']=range(36)\n",
    "care4_df.head()"
   ]
  },
  {
   "cell_type": "code",
   "execution_count": 9,
   "metadata": {},
   "outputs": [],
   "source": [
    "#(T)ransform\n",
    "# # Delete age group column (not required)\n",
    "del assessed_df['Age Group']\n"
   ]
  },
  {
   "cell_type": "code",
   "execution_count": 10,
   "metadata": {},
   "outputs": [],
   "source": [
    "#(T)ransform\n",
    "#Delete gender (not relevant)\n",
    "del assessed_df['Gender']\n"
   ]
  },
  {
   "cell_type": "code",
   "execution_count": 11,
   "metadata": {},
   "outputs": [],
   "source": [
    "#(T)ransform\n",
    "#Remove dash in year by replacing with no space\n",
    "assessed_df['Year'] = assessed_df['Year'].str.replace(r'-','')\n"
   ]
  },
  {
   "cell_type": "code",
   "execution_count": 12,
   "metadata": {},
   "outputs": [],
   "source": [
    "#assessed_df.head()"
   ]
  },
  {
   "cell_type": "code",
   "execution_count": 13,
   "metadata": {},
   "outputs": [],
   "source": [
    "#(T)ransform\n",
    "#Remove last 2 digits to make single year (do not re run as it removes entire year)\n",
    "assessed_df['Year'] = assessed_df['Year'].str[:-2]"
   ]
  },
  {
   "cell_type": "code",
   "execution_count": 14,
   "metadata": {},
   "outputs": [
    {
     "output_type": "execute_result",
     "data": {
      "text/plain": "   _id                         Indicator           AACC Region  Aboriginality  \\\n0    1  Safety and Wellbeing Assessments        East Kimberley     Aboriginal   \n1    2  Safety and Wellbeing Assessments        East Kimberley  NonAboriginal   \n2    3  Safety and Wellbeing Assessments  Goldfields-Esperance     Aboriginal   \n3    4  Safety and Wellbeing Assessments  Goldfields-Esperance  NonAboriginal   \n4    5  Safety and Wellbeing Assessments      Midwest-Gascoyne     Aboriginal   \n\n   Count  Year  \n0    325  2015  \n1      4  2015  \n2    193  2015  \n3    126  2015  \n4    471  2015  ",
      "text/html": "<div>\n<style scoped>\n    .dataframe tbody tr th:only-of-type {\n        vertical-align: middle;\n    }\n\n    .dataframe tbody tr th {\n        vertical-align: top;\n    }\n\n    .dataframe thead th {\n        text-align: right;\n    }\n</style>\n<table border=\"1\" class=\"dataframe\">\n  <thead>\n    <tr style=\"text-align: right;\">\n      <th></th>\n      <th>_id</th>\n      <th>Indicator</th>\n      <th>AACC Region</th>\n      <th>Aboriginality</th>\n      <th>Count</th>\n      <th>Year</th>\n    </tr>\n  </thead>\n  <tbody>\n    <tr>\n      <th>0</th>\n      <td>1</td>\n      <td>Safety and Wellbeing Assessments</td>\n      <td>East Kimberley</td>\n      <td>Aboriginal</td>\n      <td>325</td>\n      <td>2015</td>\n    </tr>\n    <tr>\n      <th>1</th>\n      <td>2</td>\n      <td>Safety and Wellbeing Assessments</td>\n      <td>East Kimberley</td>\n      <td>NonAboriginal</td>\n      <td>4</td>\n      <td>2015</td>\n    </tr>\n    <tr>\n      <th>2</th>\n      <td>3</td>\n      <td>Safety and Wellbeing Assessments</td>\n      <td>Goldfields-Esperance</td>\n      <td>Aboriginal</td>\n      <td>193</td>\n      <td>2015</td>\n    </tr>\n    <tr>\n      <th>3</th>\n      <td>4</td>\n      <td>Safety and Wellbeing Assessments</td>\n      <td>Goldfields-Esperance</td>\n      <td>NonAboriginal</td>\n      <td>126</td>\n      <td>2015</td>\n    </tr>\n    <tr>\n      <th>4</th>\n      <td>5</td>\n      <td>Safety and Wellbeing Assessments</td>\n      <td>Midwest-Gascoyne</td>\n      <td>Aboriginal</td>\n      <td>471</td>\n      <td>2015</td>\n    </tr>\n  </tbody>\n</table>\n</div>"
     },
     "metadata": {},
     "execution_count": 14
    }
   ],
   "source": [
    "assessed_df.head()"
   ]
  },
  {
   "cell_type": "code",
   "execution_count": 15,
   "metadata": {},
   "outputs": [
    {
     "output_type": "execute_result",
     "data": {
      "text/plain": "array(['East Kimberley', 'Goldfields-Esperance', 'Midwest-Gascoyne',\n       'Perth', 'Pilbara', 'Southern', 'Western Australia', 'Wheatbelt',\n       'West Kimberley'], dtype=object)"
     },
     "metadata": {},
     "execution_count": 15
    }
   ],
   "source": [
    "#Check regions in assessed data\n",
    "assessed_df['AACC Region'].unique()\n"
   ]
  },
  {
   "cell_type": "code",
   "execution_count": 16,
   "metadata": {},
   "outputs": [
    {
     "output_type": "execute_result",
     "data": {
      "text/plain": "array(['East Kimberley', 'Goldfields-Esperance', 'Midwest-Gascoyne',\n       'Perth', 'Pilbara', 'Southern', 'Western Australia', 'Wheatbelt',\n       'West Kimberley'], dtype=object)"
     },
     "metadata": {},
     "execution_count": 16
    }
   ],
   "source": [
    "#check regions in care data\n",
    "care4_df['AACC Region'].unique()"
   ]
  },
  {
   "cell_type": "code",
   "execution_count": 17,
   "metadata": {},
   "outputs": [],
   "source": [
    "#(T)ransform\n",
    "#add index to care df to enable merge\n",
    "care5_df=care4_df.set_index('id1')"
   ]
  },
  {
   "cell_type": "code",
   "execution_count": 18,
   "metadata": {},
   "outputs": [
    {
     "output_type": "execute_result",
     "data": {
      "text/plain": "     _id_care    Indicator_care      AACC Region_care Aboriginality_care  \\\nid1                                                                        \n0         127  Children in care        East Kimberley         Aboriginal   \n1         128  Children in care        East Kimberley      NonAboriginal   \n2         129  Children in care  Goldfields-Esperance      NonAboriginal   \n3         130  Children in care  Goldfields-Esperance         Aboriginal   \n4         131  Children in care      Midwest-Gascoyne         Aboriginal   \n\n     Count_care  Year_care  _id_assessed                Indicator_assessed  \\\nid1                                                                          \n0           144       2015             1  Safety and Wellbeing Assessments   \n1             0       2015             2  Safety and Wellbeing Assessments   \n2            23       2015             3  Safety and Wellbeing Assessments   \n3           135       2015             4  Safety and Wellbeing Assessments   \n4           142       2015             5  Safety and Wellbeing Assessments   \n\n     AACC Region_assessed Aboriginality_assessed  Count_assessed Year_assessed  \nid1                                                                             \n0          East Kimberley             Aboriginal             325          2015  \n1          East Kimberley          NonAboriginal               4          2015  \n2    Goldfields-Esperance             Aboriginal             193          2015  \n3    Goldfields-Esperance          NonAboriginal             126          2015  \n4        Midwest-Gascoyne             Aboriginal             471          2015  ",
      "text/html": "<div>\n<style scoped>\n    .dataframe tbody tr th:only-of-type {\n        vertical-align: middle;\n    }\n\n    .dataframe tbody tr th {\n        vertical-align: top;\n    }\n\n    .dataframe thead th {\n        text-align: right;\n    }\n</style>\n<table border=\"1\" class=\"dataframe\">\n  <thead>\n    <tr style=\"text-align: right;\">\n      <th></th>\n      <th>_id_care</th>\n      <th>Indicator_care</th>\n      <th>AACC Region_care</th>\n      <th>Aboriginality_care</th>\n      <th>Count_care</th>\n      <th>Year_care</th>\n      <th>_id_assessed</th>\n      <th>Indicator_assessed</th>\n      <th>AACC Region_assessed</th>\n      <th>Aboriginality_assessed</th>\n      <th>Count_assessed</th>\n      <th>Year_assessed</th>\n    </tr>\n    <tr>\n      <th>id1</th>\n      <th></th>\n      <th></th>\n      <th></th>\n      <th></th>\n      <th></th>\n      <th></th>\n      <th></th>\n      <th></th>\n      <th></th>\n      <th></th>\n      <th></th>\n      <th></th>\n    </tr>\n  </thead>\n  <tbody>\n    <tr>\n      <th>0</th>\n      <td>127</td>\n      <td>Children in care</td>\n      <td>East Kimberley</td>\n      <td>Aboriginal</td>\n      <td>144</td>\n      <td>2015</td>\n      <td>1</td>\n      <td>Safety and Wellbeing Assessments</td>\n      <td>East Kimberley</td>\n      <td>Aboriginal</td>\n      <td>325</td>\n      <td>2015</td>\n    </tr>\n    <tr>\n      <th>1</th>\n      <td>128</td>\n      <td>Children in care</td>\n      <td>East Kimberley</td>\n      <td>NonAboriginal</td>\n      <td>0</td>\n      <td>2015</td>\n      <td>2</td>\n      <td>Safety and Wellbeing Assessments</td>\n      <td>East Kimberley</td>\n      <td>NonAboriginal</td>\n      <td>4</td>\n      <td>2015</td>\n    </tr>\n    <tr>\n      <th>2</th>\n      <td>129</td>\n      <td>Children in care</td>\n      <td>Goldfields-Esperance</td>\n      <td>NonAboriginal</td>\n      <td>23</td>\n      <td>2015</td>\n      <td>3</td>\n      <td>Safety and Wellbeing Assessments</td>\n      <td>Goldfields-Esperance</td>\n      <td>Aboriginal</td>\n      <td>193</td>\n      <td>2015</td>\n    </tr>\n    <tr>\n      <th>3</th>\n      <td>130</td>\n      <td>Children in care</td>\n      <td>Goldfields-Esperance</td>\n      <td>Aboriginal</td>\n      <td>135</td>\n      <td>2015</td>\n      <td>4</td>\n      <td>Safety and Wellbeing Assessments</td>\n      <td>Goldfields-Esperance</td>\n      <td>NonAboriginal</td>\n      <td>126</td>\n      <td>2015</td>\n    </tr>\n    <tr>\n      <th>4</th>\n      <td>131</td>\n      <td>Children in care</td>\n      <td>Midwest-Gascoyne</td>\n      <td>Aboriginal</td>\n      <td>142</td>\n      <td>2015</td>\n      <td>5</td>\n      <td>Safety and Wellbeing Assessments</td>\n      <td>Midwest-Gascoyne</td>\n      <td>Aboriginal</td>\n      <td>471</td>\n      <td>2015</td>\n    </tr>\n  </tbody>\n</table>\n</div>"
     },
     "metadata": {},
     "execution_count": 18
    }
   ],
   "source": [
    "#(T)ransform\n",
    "#merge df's and add suffixes to identify original df\n",
    "merged_df = care5_df.merge(assessed_df,left_index=True, right_index=True,suffixes =('_care','_assessed'),validate=None)\n",
    "merged_df.head()"
   ]
  },
  {
   "cell_type": "code",
   "execution_count": 19,
   "metadata": {},
   "outputs": [
    {
     "output_type": "execute_result",
     "data": {
      "text/plain": "Index(['_id_care', 'Indicator_care', 'AACC Region_care', 'Aboriginality_care',\n       'Count_care', 'Year_care', '_id_assessed', 'Indicator_assessed',\n       'AACC Region_assessed', 'Aboriginality_assessed', 'Count_assessed',\n       'Year_assessed'],\n      dtype='object')"
     },
     "metadata": {},
     "execution_count": 19
    }
   ],
   "source": [
    "merged_df.columns"
   ]
  },
  {
   "cell_type": "code",
   "execution_count": 20,
   "metadata": {},
   "outputs": [
    {
     "output_type": "execute_result",
     "data": {
      "text/plain": "     Year_care      AACC Region_care Aboriginality_care  Count_assessed  \\\nid1                                                                       \n0         2015        East Kimberley         Aboriginal             325   \n1         2015        East Kimberley      NonAboriginal               4   \n2         2015  Goldfields-Esperance      NonAboriginal             193   \n3         2015  Goldfields-Esperance         Aboriginal             126   \n4         2015      Midwest-Gascoyne         Aboriginal             471   \n\n     Count_care  \nid1              \n0           144  \n1             0  \n2            23  \n3           135  \n4           142  ",
      "text/html": "<div>\n<style scoped>\n    .dataframe tbody tr th:only-of-type {\n        vertical-align: middle;\n    }\n\n    .dataframe tbody tr th {\n        vertical-align: top;\n    }\n\n    .dataframe thead th {\n        text-align: right;\n    }\n</style>\n<table border=\"1\" class=\"dataframe\">\n  <thead>\n    <tr style=\"text-align: right;\">\n      <th></th>\n      <th>Year_care</th>\n      <th>AACC Region_care</th>\n      <th>Aboriginality_care</th>\n      <th>Count_assessed</th>\n      <th>Count_care</th>\n    </tr>\n    <tr>\n      <th>id1</th>\n      <th></th>\n      <th></th>\n      <th></th>\n      <th></th>\n      <th></th>\n    </tr>\n  </thead>\n  <tbody>\n    <tr>\n      <th>0</th>\n      <td>2015</td>\n      <td>East Kimberley</td>\n      <td>Aboriginal</td>\n      <td>325</td>\n      <td>144</td>\n    </tr>\n    <tr>\n      <th>1</th>\n      <td>2015</td>\n      <td>East Kimberley</td>\n      <td>NonAboriginal</td>\n      <td>4</td>\n      <td>0</td>\n    </tr>\n    <tr>\n      <th>2</th>\n      <td>2015</td>\n      <td>Goldfields-Esperance</td>\n      <td>NonAboriginal</td>\n      <td>193</td>\n      <td>23</td>\n    </tr>\n    <tr>\n      <th>3</th>\n      <td>2015</td>\n      <td>Goldfields-Esperance</td>\n      <td>Aboriginal</td>\n      <td>126</td>\n      <td>135</td>\n    </tr>\n    <tr>\n      <th>4</th>\n      <td>2015</td>\n      <td>Midwest-Gascoyne</td>\n      <td>Aboriginal</td>\n      <td>471</td>\n      <td>142</td>\n    </tr>\n  </tbody>\n</table>\n</div>"
     },
     "metadata": {},
     "execution_count": 20
    }
   ],
   "source": [
    "#(T)ransform\n",
    "#create new data frame with only columns required in order\n",
    "organise_df = merged_df[[\"Year_care\",\"AACC Region_care\", \"Aboriginality_care\", \"Count_assessed\", \"Count_care\"]]\n",
    "organise_df.head()"
   ]
  },
  {
   "cell_type": "code",
   "execution_count": 53,
   "metadata": {},
   "outputs": [
    {
     "output_type": "execute_result",
     "data": {
      "text/plain": "     years           aacc_region  aboriginality  number_assessed  \\\nid1                                                                \n0     2015        East Kimberley     Aboriginal              325   \n1     2015        East Kimberley  NonAboriginal                4   \n2     2015  Goldfields-Esperance  NonAboriginal              193   \n3     2015  Goldfields-Esperance     Aboriginal              126   \n4     2015      Midwest-Gascoyne     Aboriginal              471   \n\n     number_in_care  \nid1                  \n0               144  \n1                 0  \n2                23  \n3               135  \n4               142  ",
      "text/html": "<div>\n<style scoped>\n    .dataframe tbody tr th:only-of-type {\n        vertical-align: middle;\n    }\n\n    .dataframe tbody tr th {\n        vertical-align: top;\n    }\n\n    .dataframe thead th {\n        text-align: right;\n    }\n</style>\n<table border=\"1\" class=\"dataframe\">\n  <thead>\n    <tr style=\"text-align: right;\">\n      <th></th>\n      <th>years</th>\n      <th>aacc_region</th>\n      <th>aboriginality</th>\n      <th>number_assessed</th>\n      <th>number_in_care</th>\n    </tr>\n    <tr>\n      <th>id1</th>\n      <th></th>\n      <th></th>\n      <th></th>\n      <th></th>\n      <th></th>\n    </tr>\n  </thead>\n  <tbody>\n    <tr>\n      <th>0</th>\n      <td>2015</td>\n      <td>East Kimberley</td>\n      <td>Aboriginal</td>\n      <td>325</td>\n      <td>144</td>\n    </tr>\n    <tr>\n      <th>1</th>\n      <td>2015</td>\n      <td>East Kimberley</td>\n      <td>NonAboriginal</td>\n      <td>4</td>\n      <td>0</td>\n    </tr>\n    <tr>\n      <th>2</th>\n      <td>2015</td>\n      <td>Goldfields-Esperance</td>\n      <td>NonAboriginal</td>\n      <td>193</td>\n      <td>23</td>\n    </tr>\n    <tr>\n      <th>3</th>\n      <td>2015</td>\n      <td>Goldfields-Esperance</td>\n      <td>Aboriginal</td>\n      <td>126</td>\n      <td>135</td>\n    </tr>\n    <tr>\n      <th>4</th>\n      <td>2015</td>\n      <td>Midwest-Gascoyne</td>\n      <td>Aboriginal</td>\n      <td>471</td>\n      <td>142</td>\n    </tr>\n  </tbody>\n</table>\n</div>"
     },
     "metadata": {},
     "execution_count": 53
    }
   ],
   "source": [
    "#(T)ransform\n",
    "#rename columns\n",
    "Final_df = organise_df.rename(columns={\"AACC Region_care\":\"aacc_region\", \"Aboriginality_care\":\"aboriginality\",\"Year_care\":\"years\", \"Count_assessed\":\"number_assessed\", \"Count_care\":\"number_in_care\"})\n",
    "Final_df.head()\n",
    "\n"
   ]
  },
  {
   "cell_type": "code",
   "execution_count": 54,
   "metadata": {},
   "outputs": [
    {
     "output_type": "execute_result",
     "data": {
      "text/plain": "Index(['years', 'aacc_region', 'aboriginality', 'number_assessed',\n       'number_in_care'],\n      dtype='object')"
     },
     "metadata": {},
     "execution_count": 54
    }
   ],
   "source": [
    "Final_df.columns"
   ]
  },
  {
   "cell_type": "code",
   "execution_count": 55,
   "metadata": {},
   "outputs": [],
   "source": [
    "#(L)oading\n",
    "#Export file as csv, without pandas index, but with headers\n",
    "Final_df.to_csv(\"ChildrenData.csv\", index=False, header=True)"
   ]
  },
  {
   "cell_type": "code",
   "execution_count": 56,
   "metadata": {
    "tags": []
   },
   "outputs": [
    {
     "output_type": "stream",
     "name": "stdout",
     "text": "<class 'pandas.core.frame.DataFrame'>\nInt64Index: 36 entries, 0 to 35\nData columns (total 5 columns):\n #   Column           Non-Null Count  Dtype \n---  ------           --------------  ----- \n 0   years            36 non-null     int64 \n 1   aacc_region      36 non-null     object\n 2   aboriginality    36 non-null     object\n 3   number_assessed  36 non-null     int64 \n 4   number_in_care   36 non-null     int64 \ndtypes: int64(3), object(2)\nmemory usage: 2.9+ KB\n"
    }
   ],
   "source": [
    "Final_df.info()"
   ]
  },
  {
   "cell_type": "code",
   "execution_count": 60,
   "metadata": {},
   "outputs": [],
   "source": [
    "#(L)oading\n",
    "rds_connection_string=\"postgres:XXXXXXX@localhost:5432/ETL_DB\"\n",
    "engine = create_engine(f'postgresql://{rds_connection_string}')"
   ]
  },
  {
   "cell_type": "code",
   "execution_count": 61,
   "metadata": {},
   "outputs": [
    {
     "output_type": "execute_result",
     "data": {
      "text/plain": "['children_at_risk']"
     },
     "metadata": {},
     "execution_count": 61
    }
   ],
   "source": [
    "engine.table_names()"
   ]
  },
  {
   "cell_type": "code",
   "execution_count": 62,
   "metadata": {},
   "outputs": [],
   "source": [
    "#(L)oading\n",
    "Final_df.to_sql(name = 'children_at_risk', con=engine, if_exists='append', index=True)"
   ]
  },
  {
   "cell_type": "code",
   "execution_count": null,
   "metadata": {},
   "outputs": [],
   "source": []
  }
 ]
}