{
 "metadata": {
  "language_info": {
   "codemirror_mode": {
    "name": "ipython",
    "version": 3
   },
   "file_extension": ".py",
   "mimetype": "text/x-python",
   "name": "python",
   "nbconvert_exporter": "python",
   "pygments_lexer": "ipython3",
   "version": "3.7.6-final"
  },
  "orig_nbformat": 2,
  "kernelspec": {
   "name": "python_defaultSpec_1598532471661",
   "display_name": "Python 3.7.6 64-bit ('base': conda)"
  }
 },
 "nbformat": 4,
 "nbformat_minor": 2,
 "cells": [
  {
   "cell_type": "code",
   "execution_count": 59,
   "metadata": {},
   "outputs": [],
   "source": [
    "import pandas as pd     "
   ]
  },
  {
   "cell_type": "code",
   "execution_count": 60,
   "metadata": {},
   "outputs": [
    {
     "output_type": "execute_result",
     "data": {
      "text/plain": "   _id         Indicator           AACC Region  Aboriginality     Age Group  \\\n0    1  Children in care        East Kimberley  NonAboriginal  0 - 17 Years   \n1    2  Children in care        East Kimberley     Aboriginal  0 - 17 Years   \n2    3  Children in care  Goldfields-Esperance  NonAboriginal  0 - 17 Years   \n3    4  Children in care  Goldfields-Esperance     Aboriginal  0 - 17 Years   \n4    5  Children in care      Midwest-Gascoyne     Aboriginal  0 - 17 Years   \n\n  Gender  Count  Year  \n0    All      0  2008  \n1    All     91  2008  \n2    All     34  2008  \n3    All     69  2008  \n4    All     94  2008  ",
      "text/html": "<div>\n<style scoped>\n    .dataframe tbody tr th:only-of-type {\n        vertical-align: middle;\n    }\n\n    .dataframe tbody tr th {\n        vertical-align: top;\n    }\n\n    .dataframe thead th {\n        text-align: right;\n    }\n</style>\n<table border=\"1\" class=\"dataframe\">\n  <thead>\n    <tr style=\"text-align: right;\">\n      <th></th>\n      <th>_id</th>\n      <th>Indicator</th>\n      <th>AACC Region</th>\n      <th>Aboriginality</th>\n      <th>Age Group</th>\n      <th>Gender</th>\n      <th>Count</th>\n      <th>Year</th>\n    </tr>\n  </thead>\n  <tbody>\n    <tr>\n      <th>0</th>\n      <td>1</td>\n      <td>Children in care</td>\n      <td>East Kimberley</td>\n      <td>NonAboriginal</td>\n      <td>0 - 17 Years</td>\n      <td>All</td>\n      <td>0</td>\n      <td>2008</td>\n    </tr>\n    <tr>\n      <th>1</th>\n      <td>2</td>\n      <td>Children in care</td>\n      <td>East Kimberley</td>\n      <td>Aboriginal</td>\n      <td>0 - 17 Years</td>\n      <td>All</td>\n      <td>91</td>\n      <td>2008</td>\n    </tr>\n    <tr>\n      <th>2</th>\n      <td>3</td>\n      <td>Children in care</td>\n      <td>Goldfields-Esperance</td>\n      <td>NonAboriginal</td>\n      <td>0 - 17 Years</td>\n      <td>All</td>\n      <td>34</td>\n      <td>2008</td>\n    </tr>\n    <tr>\n      <th>3</th>\n      <td>4</td>\n      <td>Children in care</td>\n      <td>Goldfields-Esperance</td>\n      <td>Aboriginal</td>\n      <td>0 - 17 Years</td>\n      <td>All</td>\n      <td>69</td>\n      <td>2008</td>\n    </tr>\n    <tr>\n      <th>4</th>\n      <td>5</td>\n      <td>Children in care</td>\n      <td>Midwest-Gascoyne</td>\n      <td>Aboriginal</td>\n      <td>0 - 17 Years</td>\n      <td>All</td>\n      <td>94</td>\n      <td>2008</td>\n    </tr>\n  </tbody>\n</table>\n</div>"
     },
     "metadata": {},
     "execution_count": 60
    }
   ],
   "source": [
    "#reading in CSV file\n",
    "care_df = pd.read_csv(\"care.csv\")\n",
    "care_df.head()"
   ]
  },
  {
   "cell_type": "code",
   "execution_count": 63,
   "metadata": {},
   "outputs": [
    {
     "output_type": "execute_result",
     "data": {
      "text/plain": "   _id                         Indicator           AACC Region  Aboriginality  \\\n0    1  Safety and Wellbeing Assessments        East Kimberley     Aboriginal   \n1    2  Safety and Wellbeing Assessments        East Kimberley  NonAboriginal   \n2    3  Safety and Wellbeing Assessments  Goldfields-Esperance     Aboriginal   \n3    4  Safety and Wellbeing Assessments  Goldfields-Esperance  NonAboriginal   \n4    5  Safety and Wellbeing Assessments      Midwest-Gascoyne     Aboriginal   \n\n      Age Group Gender  Count     Year  \n0  0 - 17 Years    All    325  2015-16  \n1  0 - 17 Years    All      4  2015-16  \n2  0 - 17 Years    All    193  2015-16  \n3  0 - 17 Years    All    126  2015-16  \n4  0 - 17 Years    All    471  2015-16  ",
      "text/html": "<div>\n<style scoped>\n    .dataframe tbody tr th:only-of-type {\n        vertical-align: middle;\n    }\n\n    .dataframe tbody tr th {\n        vertical-align: top;\n    }\n\n    .dataframe thead th {\n        text-align: right;\n    }\n</style>\n<table border=\"1\" class=\"dataframe\">\n  <thead>\n    <tr style=\"text-align: right;\">\n      <th></th>\n      <th>_id</th>\n      <th>Indicator</th>\n      <th>AACC Region</th>\n      <th>Aboriginality</th>\n      <th>Age Group</th>\n      <th>Gender</th>\n      <th>Count</th>\n      <th>Year</th>\n    </tr>\n  </thead>\n  <tbody>\n    <tr>\n      <th>0</th>\n      <td>1</td>\n      <td>Safety and Wellbeing Assessments</td>\n      <td>East Kimberley</td>\n      <td>Aboriginal</td>\n      <td>0 - 17 Years</td>\n      <td>All</td>\n      <td>325</td>\n      <td>2015-16</td>\n    </tr>\n    <tr>\n      <th>1</th>\n      <td>2</td>\n      <td>Safety and Wellbeing Assessments</td>\n      <td>East Kimberley</td>\n      <td>NonAboriginal</td>\n      <td>0 - 17 Years</td>\n      <td>All</td>\n      <td>4</td>\n      <td>2015-16</td>\n    </tr>\n    <tr>\n      <th>2</th>\n      <td>3</td>\n      <td>Safety and Wellbeing Assessments</td>\n      <td>Goldfields-Esperance</td>\n      <td>Aboriginal</td>\n      <td>0 - 17 Years</td>\n      <td>All</td>\n      <td>193</td>\n      <td>2015-16</td>\n    </tr>\n    <tr>\n      <th>3</th>\n      <td>4</td>\n      <td>Safety and Wellbeing Assessments</td>\n      <td>Goldfields-Esperance</td>\n      <td>NonAboriginal</td>\n      <td>0 - 17 Years</td>\n      <td>All</td>\n      <td>126</td>\n      <td>2015-16</td>\n    </tr>\n    <tr>\n      <th>4</th>\n      <td>5</td>\n      <td>Safety and Wellbeing Assessments</td>\n      <td>Midwest-Gascoyne</td>\n      <td>Aboriginal</td>\n      <td>0 - 17 Years</td>\n      <td>All</td>\n      <td>471</td>\n      <td>2015-16</td>\n    </tr>\n  </tbody>\n</table>\n</div>"
     },
     "metadata": {},
     "execution_count": 63
    }
   ],
   "source": [
    "#reading in CSV file\n",
    "assessed_df = pd.read_csv(\"assessed.csv\")\n",
    "assessed_df.head()"
   ]
  },
  {
   "cell_type": "code",
   "execution_count": 64,
   "metadata": {},
   "outputs": [
    {
     "output_type": "execute_result",
     "data": {
      "text/plain": "   _id         Indicator           AACC Region  Aboriginality Gender  Count  \\\n0    1  Children in care        East Kimberley  NonAboriginal    All      0   \n1    2  Children in care        East Kimberley     Aboriginal    All     91   \n2    3  Children in care  Goldfields-Esperance  NonAboriginal    All     34   \n3    4  Children in care  Goldfields-Esperance     Aboriginal    All     69   \n4    5  Children in care      Midwest-Gascoyne     Aboriginal    All     94   \n\n   Year  \n0  2008  \n1  2008  \n2  2008  \n3  2008  \n4  2008  ",
      "text/html": "<div>\n<style scoped>\n    .dataframe tbody tr th:only-of-type {\n        vertical-align: middle;\n    }\n\n    .dataframe tbody tr th {\n        vertical-align: top;\n    }\n\n    .dataframe thead th {\n        text-align: right;\n    }\n</style>\n<table border=\"1\" class=\"dataframe\">\n  <thead>\n    <tr style=\"text-align: right;\">\n      <th></th>\n      <th>_id</th>\n      <th>Indicator</th>\n      <th>AACC Region</th>\n      <th>Aboriginality</th>\n      <th>Gender</th>\n      <th>Count</th>\n      <th>Year</th>\n    </tr>\n  </thead>\n  <tbody>\n    <tr>\n      <th>0</th>\n      <td>1</td>\n      <td>Children in care</td>\n      <td>East Kimberley</td>\n      <td>NonAboriginal</td>\n      <td>All</td>\n      <td>0</td>\n      <td>2008</td>\n    </tr>\n    <tr>\n      <th>1</th>\n      <td>2</td>\n      <td>Children in care</td>\n      <td>East Kimberley</td>\n      <td>Aboriginal</td>\n      <td>All</td>\n      <td>91</td>\n      <td>2008</td>\n    </tr>\n    <tr>\n      <th>2</th>\n      <td>3</td>\n      <td>Children in care</td>\n      <td>Goldfields-Esperance</td>\n      <td>NonAboriginal</td>\n      <td>All</td>\n      <td>34</td>\n      <td>2008</td>\n    </tr>\n    <tr>\n      <th>3</th>\n      <td>4</td>\n      <td>Children in care</td>\n      <td>Goldfields-Esperance</td>\n      <td>Aboriginal</td>\n      <td>All</td>\n      <td>69</td>\n      <td>2008</td>\n    </tr>\n    <tr>\n      <th>4</th>\n      <td>5</td>\n      <td>Children in care</td>\n      <td>Midwest-Gascoyne</td>\n      <td>Aboriginal</td>\n      <td>All</td>\n      <td>94</td>\n      <td>2008</td>\n    </tr>\n  </tbody>\n</table>\n</div>"
     },
     "metadata": {},
     "execution_count": 64
    }
   ],
   "source": [
    "# Delete age group column (not required)\n",
    "del care_df['Age Group']\n",
    "care_df.head()"
   ]
  },
  {
   "cell_type": "code",
   "execution_count": 65,
   "metadata": {},
   "outputs": [
    {
     "output_type": "execute_result",
     "data": {
      "text/plain": "   _id         Indicator           AACC Region  Aboriginality  Count  Year\n0    1  Children in care        East Kimberley  NonAboriginal      0  2008\n1    2  Children in care        East Kimberley     Aboriginal     91  2008\n2    3  Children in care  Goldfields-Esperance  NonAboriginal     34  2008\n3    4  Children in care  Goldfields-Esperance     Aboriginal     69  2008\n4    5  Children in care      Midwest-Gascoyne     Aboriginal     94  2008",
      "text/html": "<div>\n<style scoped>\n    .dataframe tbody tr th:only-of-type {\n        vertical-align: middle;\n    }\n\n    .dataframe tbody tr th {\n        vertical-align: top;\n    }\n\n    .dataframe thead th {\n        text-align: right;\n    }\n</style>\n<table border=\"1\" class=\"dataframe\">\n  <thead>\n    <tr style=\"text-align: right;\">\n      <th></th>\n      <th>_id</th>\n      <th>Indicator</th>\n      <th>AACC Region</th>\n      <th>Aboriginality</th>\n      <th>Count</th>\n      <th>Year</th>\n    </tr>\n  </thead>\n  <tbody>\n    <tr>\n      <th>0</th>\n      <td>1</td>\n      <td>Children in care</td>\n      <td>East Kimberley</td>\n      <td>NonAboriginal</td>\n      <td>0</td>\n      <td>2008</td>\n    </tr>\n    <tr>\n      <th>1</th>\n      <td>2</td>\n      <td>Children in care</td>\n      <td>East Kimberley</td>\n      <td>Aboriginal</td>\n      <td>91</td>\n      <td>2008</td>\n    </tr>\n    <tr>\n      <th>2</th>\n      <td>3</td>\n      <td>Children in care</td>\n      <td>Goldfields-Esperance</td>\n      <td>NonAboriginal</td>\n      <td>34</td>\n      <td>2008</td>\n    </tr>\n    <tr>\n      <th>3</th>\n      <td>4</td>\n      <td>Children in care</td>\n      <td>Goldfields-Esperance</td>\n      <td>Aboriginal</td>\n      <td>69</td>\n      <td>2008</td>\n    </tr>\n    <tr>\n      <th>4</th>\n      <td>5</td>\n      <td>Children in care</td>\n      <td>Midwest-Gascoyne</td>\n      <td>Aboriginal</td>\n      <td>94</td>\n      <td>2008</td>\n    </tr>\n  </tbody>\n</table>\n</div>"
     },
     "metadata": {},
     "execution_count": 65
    }
   ],
   "source": [
    "#Delete gender (not relevant)\n",
    "del care_df['Gender']\n",
    "care_df.head()"
   ]
  },
  {
   "cell_type": "code",
   "execution_count": 66,
   "metadata": {},
   "outputs": [
    {
     "output_type": "execute_result",
     "data": {
      "text/plain": "     _id         Indicator           AACC Region  Aboriginality  Count  Year\n126  127  Children in care        East Kimberley     Aboriginal    144  2015\n127  128  Children in care        East Kimberley  NonAboriginal      0  2015\n128  129  Children in care  Goldfields-Esperance  NonAboriginal     23  2015\n129  130  Children in care  Goldfields-Esperance     Aboriginal    135  2015\n130  131  Children in care      Midwest-Gascoyne     Aboriginal    142  2015",
      "text/html": "<div>\n<style scoped>\n    .dataframe tbody tr th:only-of-type {\n        vertical-align: middle;\n    }\n\n    .dataframe tbody tr th {\n        vertical-align: top;\n    }\n\n    .dataframe thead th {\n        text-align: right;\n    }\n</style>\n<table border=\"1\" class=\"dataframe\">\n  <thead>\n    <tr style=\"text-align: right;\">\n      <th></th>\n      <th>_id</th>\n      <th>Indicator</th>\n      <th>AACC Region</th>\n      <th>Aboriginality</th>\n      <th>Count</th>\n      <th>Year</th>\n    </tr>\n  </thead>\n  <tbody>\n    <tr>\n      <th>126</th>\n      <td>127</td>\n      <td>Children in care</td>\n      <td>East Kimberley</td>\n      <td>Aboriginal</td>\n      <td>144</td>\n      <td>2015</td>\n    </tr>\n    <tr>\n      <th>127</th>\n      <td>128</td>\n      <td>Children in care</td>\n      <td>East Kimberley</td>\n      <td>NonAboriginal</td>\n      <td>0</td>\n      <td>2015</td>\n    </tr>\n    <tr>\n      <th>128</th>\n      <td>129</td>\n      <td>Children in care</td>\n      <td>Goldfields-Esperance</td>\n      <td>NonAboriginal</td>\n      <td>23</td>\n      <td>2015</td>\n    </tr>\n    <tr>\n      <th>129</th>\n      <td>130</td>\n      <td>Children in care</td>\n      <td>Goldfields-Esperance</td>\n      <td>Aboriginal</td>\n      <td>135</td>\n      <td>2015</td>\n    </tr>\n    <tr>\n      <th>130</th>\n      <td>131</td>\n      <td>Children in care</td>\n      <td>Midwest-Gascoyne</td>\n      <td>Aboriginal</td>\n      <td>142</td>\n      <td>2015</td>\n    </tr>\n  </tbody>\n</table>\n</div>"
     },
     "metadata": {},
     "execution_count": 66
    }
   ],
   "source": [
    "#delete years prior to 2015\n",
    "care2_df = care_df.loc[care_df['Year']>2014]\n",
    "care2_df.head()"
   ]
  },
  {
   "cell_type": "code",
   "execution_count": 67,
   "metadata": {},
   "outputs": [
    {
     "output_type": "execute_result",
     "data": {
      "text/plain": "     _id         Indicator           AACC Region  Aboriginality  Count  Year\n126  127  Children in care        East Kimberley     Aboriginal    144  2015\n127  128  Children in care        East Kimberley  NonAboriginal      0  2015\n128  129  Children in care  Goldfields-Esperance  NonAboriginal     23  2015\n129  130  Children in care  Goldfields-Esperance     Aboriginal    135  2015\n130  131  Children in care      Midwest-Gascoyne     Aboriginal    142  2015\n131  132  Children in care      Midwest-Gascoyne  NonAboriginal     56  2015\n132  133  Children in care                 Perth  NonAboriginal   1691  2015\n133  134  Children in care                 Perth     Aboriginal   1187  2015\n134  135  Children in care               Pilbara  NonAboriginal      7  2015\n135  136  Children in care               Pilbara     Aboriginal    204  2015\n136  137  Children in care              Southern  NonAboriginal    274  2015\n137  138  Children in care              Southern     Aboriginal    202  2015\n138  139  Children in care     Western Australia     Aboriginal   2338  2015\n139  140  Children in care     Western Australia  NonAboriginal   2165  2015\n140  141  Children in care             Wheatbelt     Aboriginal    129  2015\n141  142  Children in care             Wheatbelt  NonAboriginal    111  2015\n142  143  Children in care        West Kimberley     Aboriginal    195  2015\n143  144  Children in care        West Kimberley  NonAboriginal      3  2015\n144  145  Children in care        East Kimberley     Aboriginal    158  2016\n145  146  Children in care        East Kimberley  NonAboriginal      0  2016\n146  147  Children in care  Goldfields-Esperance     Aboriginal    107  2016\n147  148  Children in care  Goldfields-Esperance  NonAboriginal     19  2016\n148  149  Children in care      Midwest-Gascoyne     Aboriginal    190  2016\n149  150  Children in care      Midwest-Gascoyne  NonAboriginal     59  2016\n150  151  Children in care                 Perth     Aboriginal   1253  2016\n151  152  Children in care                 Perth  NonAboriginal   1718  2016\n152  153  Children in care               Pilbara     Aboriginal    202  2016\n153  154  Children in care               Pilbara  NonAboriginal      9  2016\n154  155  Children in care              Southern     Aboriginal    239  2016\n155  156  Children in care              Southern  NonAboriginal    271  2016\n156  157  Children in care     Western Australia     Aboriginal   2480  2016\n157  158  Children in care     Western Australia  NonAboriginal   2178  2016\n158  159  Children in care             Wheatbelt     Aboriginal    142  2016\n159  160  Children in care             Wheatbelt  NonAboriginal    101  2016\n160  161  Children in care        West Kimberley     Aboriginal    189  2016\n161  162  Children in care        West Kimberley  NonAboriginal      1  2016",
      "text/html": "<div>\n<style scoped>\n    .dataframe tbody tr th:only-of-type {\n        vertical-align: middle;\n    }\n\n    .dataframe tbody tr th {\n        vertical-align: top;\n    }\n\n    .dataframe thead th {\n        text-align: right;\n    }\n</style>\n<table border=\"1\" class=\"dataframe\">\n  <thead>\n    <tr style=\"text-align: right;\">\n      <th></th>\n      <th>_id</th>\n      <th>Indicator</th>\n      <th>AACC Region</th>\n      <th>Aboriginality</th>\n      <th>Count</th>\n      <th>Year</th>\n    </tr>\n  </thead>\n  <tbody>\n    <tr>\n      <th>126</th>\n      <td>127</td>\n      <td>Children in care</td>\n      <td>East Kimberley</td>\n      <td>Aboriginal</td>\n      <td>144</td>\n      <td>2015</td>\n    </tr>\n    <tr>\n      <th>127</th>\n      <td>128</td>\n      <td>Children in care</td>\n      <td>East Kimberley</td>\n      <td>NonAboriginal</td>\n      <td>0</td>\n      <td>2015</td>\n    </tr>\n    <tr>\n      <th>128</th>\n      <td>129</td>\n      <td>Children in care</td>\n      <td>Goldfields-Esperance</td>\n      <td>NonAboriginal</td>\n      <td>23</td>\n      <td>2015</td>\n    </tr>\n    <tr>\n      <th>129</th>\n      <td>130</td>\n      <td>Children in care</td>\n      <td>Goldfields-Esperance</td>\n      <td>Aboriginal</td>\n      <td>135</td>\n      <td>2015</td>\n    </tr>\n    <tr>\n      <th>130</th>\n      <td>131</td>\n      <td>Children in care</td>\n      <td>Midwest-Gascoyne</td>\n      <td>Aboriginal</td>\n      <td>142</td>\n      <td>2015</td>\n    </tr>\n    <tr>\n      <th>131</th>\n      <td>132</td>\n      <td>Children in care</td>\n      <td>Midwest-Gascoyne</td>\n      <td>NonAboriginal</td>\n      <td>56</td>\n      <td>2015</td>\n    </tr>\n    <tr>\n      <th>132</th>\n      <td>133</td>\n      <td>Children in care</td>\n      <td>Perth</td>\n      <td>NonAboriginal</td>\n      <td>1691</td>\n      <td>2015</td>\n    </tr>\n    <tr>\n      <th>133</th>\n      <td>134</td>\n      <td>Children in care</td>\n      <td>Perth</td>\n      <td>Aboriginal</td>\n      <td>1187</td>\n      <td>2015</td>\n    </tr>\n    <tr>\n      <th>134</th>\n      <td>135</td>\n      <td>Children in care</td>\n      <td>Pilbara</td>\n      <td>NonAboriginal</td>\n      <td>7</td>\n      <td>2015</td>\n    </tr>\n    <tr>\n      <th>135</th>\n      <td>136</td>\n      <td>Children in care</td>\n      <td>Pilbara</td>\n      <td>Aboriginal</td>\n      <td>204</td>\n      <td>2015</td>\n    </tr>\n    <tr>\n      <th>136</th>\n      <td>137</td>\n      <td>Children in care</td>\n      <td>Southern</td>\n      <td>NonAboriginal</td>\n      <td>274</td>\n      <td>2015</td>\n    </tr>\n    <tr>\n      <th>137</th>\n      <td>138</td>\n      <td>Children in care</td>\n      <td>Southern</td>\n      <td>Aboriginal</td>\n      <td>202</td>\n      <td>2015</td>\n    </tr>\n    <tr>\n      <th>138</th>\n      <td>139</td>\n      <td>Children in care</td>\n      <td>Western Australia</td>\n      <td>Aboriginal</td>\n      <td>2338</td>\n      <td>2015</td>\n    </tr>\n    <tr>\n      <th>139</th>\n      <td>140</td>\n      <td>Children in care</td>\n      <td>Western Australia</td>\n      <td>NonAboriginal</td>\n      <td>2165</td>\n      <td>2015</td>\n    </tr>\n    <tr>\n      <th>140</th>\n      <td>141</td>\n      <td>Children in care</td>\n      <td>Wheatbelt</td>\n      <td>Aboriginal</td>\n      <td>129</td>\n      <td>2015</td>\n    </tr>\n    <tr>\n      <th>141</th>\n      <td>142</td>\n      <td>Children in care</td>\n      <td>Wheatbelt</td>\n      <td>NonAboriginal</td>\n      <td>111</td>\n      <td>2015</td>\n    </tr>\n    <tr>\n      <th>142</th>\n      <td>143</td>\n      <td>Children in care</td>\n      <td>West Kimberley</td>\n      <td>Aboriginal</td>\n      <td>195</td>\n      <td>2015</td>\n    </tr>\n    <tr>\n      <th>143</th>\n      <td>144</td>\n      <td>Children in care</td>\n      <td>West Kimberley</td>\n      <td>NonAboriginal</td>\n      <td>3</td>\n      <td>2015</td>\n    </tr>\n    <tr>\n      <th>144</th>\n      <td>145</td>\n      <td>Children in care</td>\n      <td>East Kimberley</td>\n      <td>Aboriginal</td>\n      <td>158</td>\n      <td>2016</td>\n    </tr>\n    <tr>\n      <th>145</th>\n      <td>146</td>\n      <td>Children in care</td>\n      <td>East Kimberley</td>\n      <td>NonAboriginal</td>\n      <td>0</td>\n      <td>2016</td>\n    </tr>\n    <tr>\n      <th>146</th>\n      <td>147</td>\n      <td>Children in care</td>\n      <td>Goldfields-Esperance</td>\n      <td>Aboriginal</td>\n      <td>107</td>\n      <td>2016</td>\n    </tr>\n    <tr>\n      <th>147</th>\n      <td>148</td>\n      <td>Children in care</td>\n      <td>Goldfields-Esperance</td>\n      <td>NonAboriginal</td>\n      <td>19</td>\n      <td>2016</td>\n    </tr>\n    <tr>\n      <th>148</th>\n      <td>149</td>\n      <td>Children in care</td>\n      <td>Midwest-Gascoyne</td>\n      <td>Aboriginal</td>\n      <td>190</td>\n      <td>2016</td>\n    </tr>\n    <tr>\n      <th>149</th>\n      <td>150</td>\n      <td>Children in care</td>\n      <td>Midwest-Gascoyne</td>\n      <td>NonAboriginal</td>\n      <td>59</td>\n      <td>2016</td>\n    </tr>\n    <tr>\n      <th>150</th>\n      <td>151</td>\n      <td>Children in care</td>\n      <td>Perth</td>\n      <td>Aboriginal</td>\n      <td>1253</td>\n      <td>2016</td>\n    </tr>\n    <tr>\n      <th>151</th>\n      <td>152</td>\n      <td>Children in care</td>\n      <td>Perth</td>\n      <td>NonAboriginal</td>\n      <td>1718</td>\n      <td>2016</td>\n    </tr>\n    <tr>\n      <th>152</th>\n      <td>153</td>\n      <td>Children in care</td>\n      <td>Pilbara</td>\n      <td>Aboriginal</td>\n      <td>202</td>\n      <td>2016</td>\n    </tr>\n    <tr>\n      <th>153</th>\n      <td>154</td>\n      <td>Children in care</td>\n      <td>Pilbara</td>\n      <td>NonAboriginal</td>\n      <td>9</td>\n      <td>2016</td>\n    </tr>\n    <tr>\n      <th>154</th>\n      <td>155</td>\n      <td>Children in care</td>\n      <td>Southern</td>\n      <td>Aboriginal</td>\n      <td>239</td>\n      <td>2016</td>\n    </tr>\n    <tr>\n      <th>155</th>\n      <td>156</td>\n      <td>Children in care</td>\n      <td>Southern</td>\n      <td>NonAboriginal</td>\n      <td>271</td>\n      <td>2016</td>\n    </tr>\n    <tr>\n      <th>156</th>\n      <td>157</td>\n      <td>Children in care</td>\n      <td>Western Australia</td>\n      <td>Aboriginal</td>\n      <td>2480</td>\n      <td>2016</td>\n    </tr>\n    <tr>\n      <th>157</th>\n      <td>158</td>\n      <td>Children in care</td>\n      <td>Western Australia</td>\n      <td>NonAboriginal</td>\n      <td>2178</td>\n      <td>2016</td>\n    </tr>\n    <tr>\n      <th>158</th>\n      <td>159</td>\n      <td>Children in care</td>\n      <td>Wheatbelt</td>\n      <td>Aboriginal</td>\n      <td>142</td>\n      <td>2016</td>\n    </tr>\n    <tr>\n      <th>159</th>\n      <td>160</td>\n      <td>Children in care</td>\n      <td>Wheatbelt</td>\n      <td>NonAboriginal</td>\n      <td>101</td>\n      <td>2016</td>\n    </tr>\n    <tr>\n      <th>160</th>\n      <td>161</td>\n      <td>Children in care</td>\n      <td>West Kimberley</td>\n      <td>Aboriginal</td>\n      <td>189</td>\n      <td>2016</td>\n    </tr>\n    <tr>\n      <th>161</th>\n      <td>162</td>\n      <td>Children in care</td>\n      <td>West Kimberley</td>\n      <td>NonAboriginal</td>\n      <td>1</td>\n      <td>2016</td>\n    </tr>\n  </tbody>\n</table>\n</div>"
     },
     "metadata": {},
     "execution_count": 67
    }
   ],
   "source": [
    "#Delete years after 2016\n",
    "care3_df = care2_df.loc[care2_df['Year']<2017]\n",
    "care3_df"
   ]
  },
  {
   "cell_type": "code",
   "execution_count": 68,
   "metadata": {},
   "outputs": [
    {
     "output_type": "execute_result",
     "data": {
      "text/plain": "   _id                         Indicator           AACC Region  Aboriginality  \\\n0    1  Safety and Wellbeing Assessments        East Kimberley     Aboriginal   \n1    2  Safety and Wellbeing Assessments        East Kimberley  NonAboriginal   \n2    3  Safety and Wellbeing Assessments  Goldfields-Esperance     Aboriginal   \n3    4  Safety and Wellbeing Assessments  Goldfields-Esperance  NonAboriginal   \n4    5  Safety and Wellbeing Assessments      Midwest-Gascoyne     Aboriginal   \n\n  Gender  Count     Year  \n0    All    325  2015-16  \n1    All      4  2015-16  \n2    All    193  2015-16  \n3    All    126  2015-16  \n4    All    471  2015-16  ",
      "text/html": "<div>\n<style scoped>\n    .dataframe tbody tr th:only-of-type {\n        vertical-align: middle;\n    }\n\n    .dataframe tbody tr th {\n        vertical-align: top;\n    }\n\n    .dataframe thead th {\n        text-align: right;\n    }\n</style>\n<table border=\"1\" class=\"dataframe\">\n  <thead>\n    <tr style=\"text-align: right;\">\n      <th></th>\n      <th>_id</th>\n      <th>Indicator</th>\n      <th>AACC Region</th>\n      <th>Aboriginality</th>\n      <th>Gender</th>\n      <th>Count</th>\n      <th>Year</th>\n    </tr>\n  </thead>\n  <tbody>\n    <tr>\n      <th>0</th>\n      <td>1</td>\n      <td>Safety and Wellbeing Assessments</td>\n      <td>East Kimberley</td>\n      <td>Aboriginal</td>\n      <td>All</td>\n      <td>325</td>\n      <td>2015-16</td>\n    </tr>\n    <tr>\n      <th>1</th>\n      <td>2</td>\n      <td>Safety and Wellbeing Assessments</td>\n      <td>East Kimberley</td>\n      <td>NonAboriginal</td>\n      <td>All</td>\n      <td>4</td>\n      <td>2015-16</td>\n    </tr>\n    <tr>\n      <th>2</th>\n      <td>3</td>\n      <td>Safety and Wellbeing Assessments</td>\n      <td>Goldfields-Esperance</td>\n      <td>Aboriginal</td>\n      <td>All</td>\n      <td>193</td>\n      <td>2015-16</td>\n    </tr>\n    <tr>\n      <th>3</th>\n      <td>4</td>\n      <td>Safety and Wellbeing Assessments</td>\n      <td>Goldfields-Esperance</td>\n      <td>NonAboriginal</td>\n      <td>All</td>\n      <td>126</td>\n      <td>2015-16</td>\n    </tr>\n    <tr>\n      <th>4</th>\n      <td>5</td>\n      <td>Safety and Wellbeing Assessments</td>\n      <td>Midwest-Gascoyne</td>\n      <td>Aboriginal</td>\n      <td>All</td>\n      <td>471</td>\n      <td>2015-16</td>\n    </tr>\n  </tbody>\n</table>\n</div>"
     },
     "metadata": {},
     "execution_count": 68
    }
   ],
   "source": [
    "# Delete age group column (not required)\n",
    "del assessed_df['Age Group']\n",
    "assessed_df.head()"
   ]
  },
  {
   "cell_type": "code",
   "execution_count": 69,
   "metadata": {},
   "outputs": [
    {
     "output_type": "execute_result",
     "data": {
      "text/plain": "   _id                         Indicator           AACC Region  Aboriginality  \\\n0    1  Safety and Wellbeing Assessments        East Kimberley     Aboriginal   \n1    2  Safety and Wellbeing Assessments        East Kimberley  NonAboriginal   \n2    3  Safety and Wellbeing Assessments  Goldfields-Esperance     Aboriginal   \n3    4  Safety and Wellbeing Assessments  Goldfields-Esperance  NonAboriginal   \n4    5  Safety and Wellbeing Assessments      Midwest-Gascoyne     Aboriginal   \n\n   Count     Year  \n0    325  2015-16  \n1      4  2015-16  \n2    193  2015-16  \n3    126  2015-16  \n4    471  2015-16  ",
      "text/html": "<div>\n<style scoped>\n    .dataframe tbody tr th:only-of-type {\n        vertical-align: middle;\n    }\n\n    .dataframe tbody tr th {\n        vertical-align: top;\n    }\n\n    .dataframe thead th {\n        text-align: right;\n    }\n</style>\n<table border=\"1\" class=\"dataframe\">\n  <thead>\n    <tr style=\"text-align: right;\">\n      <th></th>\n      <th>_id</th>\n      <th>Indicator</th>\n      <th>AACC Region</th>\n      <th>Aboriginality</th>\n      <th>Count</th>\n      <th>Year</th>\n    </tr>\n  </thead>\n  <tbody>\n    <tr>\n      <th>0</th>\n      <td>1</td>\n      <td>Safety and Wellbeing Assessments</td>\n      <td>East Kimberley</td>\n      <td>Aboriginal</td>\n      <td>325</td>\n      <td>2015-16</td>\n    </tr>\n    <tr>\n      <th>1</th>\n      <td>2</td>\n      <td>Safety and Wellbeing Assessments</td>\n      <td>East Kimberley</td>\n      <td>NonAboriginal</td>\n      <td>4</td>\n      <td>2015-16</td>\n    </tr>\n    <tr>\n      <th>2</th>\n      <td>3</td>\n      <td>Safety and Wellbeing Assessments</td>\n      <td>Goldfields-Esperance</td>\n      <td>Aboriginal</td>\n      <td>193</td>\n      <td>2015-16</td>\n    </tr>\n    <tr>\n      <th>3</th>\n      <td>4</td>\n      <td>Safety and Wellbeing Assessments</td>\n      <td>Goldfields-Esperance</td>\n      <td>NonAboriginal</td>\n      <td>126</td>\n      <td>2015-16</td>\n    </tr>\n    <tr>\n      <th>4</th>\n      <td>5</td>\n      <td>Safety and Wellbeing Assessments</td>\n      <td>Midwest-Gascoyne</td>\n      <td>Aboriginal</td>\n      <td>471</td>\n      <td>2015-16</td>\n    </tr>\n  </tbody>\n</table>\n</div>"
     },
     "metadata": {},
     "execution_count": 69
    }
   ],
   "source": [
    "#Delete gender (not relevant)\n",
    "del assessed_df['Gender']\n",
    "assessed_df.head()"
   ]
  },
  {
   "cell_type": "code",
   "execution_count": 70,
   "metadata": {},
   "outputs": [],
   "source": [
    "#Remove dash in year by replacing with no space\n",
    "assessed_df['Year'] = assessed_df['Year'].str.replace(r'-','')\n"
   ]
  },
  {
   "cell_type": "code",
   "execution_count": 71,
   "metadata": {},
   "outputs": [
    {
     "output_type": "execute_result",
     "data": {
      "text/plain": "   _id                         Indicator           AACC Region  Aboriginality  \\\n0    1  Safety and Wellbeing Assessments        East Kimberley     Aboriginal   \n1    2  Safety and Wellbeing Assessments        East Kimberley  NonAboriginal   \n2    3  Safety and Wellbeing Assessments  Goldfields-Esperance     Aboriginal   \n3    4  Safety and Wellbeing Assessments  Goldfields-Esperance  NonAboriginal   \n4    5  Safety and Wellbeing Assessments      Midwest-Gascoyne     Aboriginal   \n\n   Count    Year  \n0    325  201516  \n1      4  201516  \n2    193  201516  \n3    126  201516  \n4    471  201516  ",
      "text/html": "<div>\n<style scoped>\n    .dataframe tbody tr th:only-of-type {\n        vertical-align: middle;\n    }\n\n    .dataframe tbody tr th {\n        vertical-align: top;\n    }\n\n    .dataframe thead th {\n        text-align: right;\n    }\n</style>\n<table border=\"1\" class=\"dataframe\">\n  <thead>\n    <tr style=\"text-align: right;\">\n      <th></th>\n      <th>_id</th>\n      <th>Indicator</th>\n      <th>AACC Region</th>\n      <th>Aboriginality</th>\n      <th>Count</th>\n      <th>Year</th>\n    </tr>\n  </thead>\n  <tbody>\n    <tr>\n      <th>0</th>\n      <td>1</td>\n      <td>Safety and Wellbeing Assessments</td>\n      <td>East Kimberley</td>\n      <td>Aboriginal</td>\n      <td>325</td>\n      <td>201516</td>\n    </tr>\n    <tr>\n      <th>1</th>\n      <td>2</td>\n      <td>Safety and Wellbeing Assessments</td>\n      <td>East Kimberley</td>\n      <td>NonAboriginal</td>\n      <td>4</td>\n      <td>201516</td>\n    </tr>\n    <tr>\n      <th>2</th>\n      <td>3</td>\n      <td>Safety and Wellbeing Assessments</td>\n      <td>Goldfields-Esperance</td>\n      <td>Aboriginal</td>\n      <td>193</td>\n      <td>201516</td>\n    </tr>\n    <tr>\n      <th>3</th>\n      <td>4</td>\n      <td>Safety and Wellbeing Assessments</td>\n      <td>Goldfields-Esperance</td>\n      <td>NonAboriginal</td>\n      <td>126</td>\n      <td>201516</td>\n    </tr>\n    <tr>\n      <th>4</th>\n      <td>5</td>\n      <td>Safety and Wellbeing Assessments</td>\n      <td>Midwest-Gascoyne</td>\n      <td>Aboriginal</td>\n      <td>471</td>\n      <td>201516</td>\n    </tr>\n  </tbody>\n</table>\n</div>"
     },
     "metadata": {},
     "execution_count": 71
    }
   ],
   "source": [
    "assessed_df.head()"
   ]
  },
  {
   "cell_type": "code",
   "execution_count": 72,
   "metadata": {},
   "outputs": [],
   "source": [
    "#Remove last 2 digits to make single year (do not re run as it removes entire year)\n",
    "assessed_df['Year'] = assessed_df['Year'].str[:-2]"
   ]
  },
  {
   "cell_type": "code",
   "execution_count": 73,
   "metadata": {},
   "outputs": [
    {
     "output_type": "execute_result",
     "data": {
      "text/plain": "   _id                         Indicator           AACC Region  Aboriginality  \\\n0    1  Safety and Wellbeing Assessments        East Kimberley     Aboriginal   \n1    2  Safety and Wellbeing Assessments        East Kimberley  NonAboriginal   \n2    3  Safety and Wellbeing Assessments  Goldfields-Esperance     Aboriginal   \n3    4  Safety and Wellbeing Assessments  Goldfields-Esperance  NonAboriginal   \n4    5  Safety and Wellbeing Assessments      Midwest-Gascoyne     Aboriginal   \n\n   Count  Year  \n0    325  2015  \n1      4  2015  \n2    193  2015  \n3    126  2015  \n4    471  2015  ",
      "text/html": "<div>\n<style scoped>\n    .dataframe tbody tr th:only-of-type {\n        vertical-align: middle;\n    }\n\n    .dataframe tbody tr th {\n        vertical-align: top;\n    }\n\n    .dataframe thead th {\n        text-align: right;\n    }\n</style>\n<table border=\"1\" class=\"dataframe\">\n  <thead>\n    <tr style=\"text-align: right;\">\n      <th></th>\n      <th>_id</th>\n      <th>Indicator</th>\n      <th>AACC Region</th>\n      <th>Aboriginality</th>\n      <th>Count</th>\n      <th>Year</th>\n    </tr>\n  </thead>\n  <tbody>\n    <tr>\n      <th>0</th>\n      <td>1</td>\n      <td>Safety and Wellbeing Assessments</td>\n      <td>East Kimberley</td>\n      <td>Aboriginal</td>\n      <td>325</td>\n      <td>2015</td>\n    </tr>\n    <tr>\n      <th>1</th>\n      <td>2</td>\n      <td>Safety and Wellbeing Assessments</td>\n      <td>East Kimberley</td>\n      <td>NonAboriginal</td>\n      <td>4</td>\n      <td>2015</td>\n    </tr>\n    <tr>\n      <th>2</th>\n      <td>3</td>\n      <td>Safety and Wellbeing Assessments</td>\n      <td>Goldfields-Esperance</td>\n      <td>Aboriginal</td>\n      <td>193</td>\n      <td>2015</td>\n    </tr>\n    <tr>\n      <th>3</th>\n      <td>4</td>\n      <td>Safety and Wellbeing Assessments</td>\n      <td>Goldfields-Esperance</td>\n      <td>NonAboriginal</td>\n      <td>126</td>\n      <td>2015</td>\n    </tr>\n    <tr>\n      <th>4</th>\n      <td>5</td>\n      <td>Safety and Wellbeing Assessments</td>\n      <td>Midwest-Gascoyne</td>\n      <td>Aboriginal</td>\n      <td>471</td>\n      <td>2015</td>\n    </tr>\n  </tbody>\n</table>\n</div>"
     },
     "metadata": {},
     "execution_count": 73
    }
   ],
   "source": [
    "assessed_df.head()"
   ]
  },
  {
   "cell_type": "code",
   "execution_count": 74,
   "metadata": {},
   "outputs": [
    {
     "output_type": "execute_result",
     "data": {
      "text/plain": "array(['East Kimberley', 'Goldfields-Esperance', 'Midwest-Gascoyne',\n       'Perth', 'Pilbara', 'Southern', 'Western Australia', 'Wheatbelt',\n       'West Kimberley'], dtype=object)"
     },
     "metadata": {},
     "execution_count": 74
    }
   ],
   "source": [
    "assessed_df['AACC Region'].unique()\n"
   ]
  },
  {
   "cell_type": "code",
   "execution_count": 75,
   "metadata": {},
   "outputs": [
    {
     "output_type": "execute_result",
     "data": {
      "text/plain": "array(['East Kimberley', 'Goldfields-Esperance', 'Midwest-Gascoyne',\n       'Perth', 'Pilbara', 'Southern', 'Western Australia', 'Wheatbelt',\n       'West Kimberley'], dtype=object)"
     },
     "metadata": {},
     "execution_count": 75
    }
   ],
   "source": [
    "care3_df['AACC Region'].unique()"
   ]
  },
  {
   "cell_type": "code",
   "execution_count": null,
   "metadata": {},
   "outputs": [],
   "source": []
  }
 ]
}